{
  "nbformat": 4,
  "nbformat_minor": 0,
  "metadata": {
    "colab": {
      "name": "lang_comparison.ipynb",
      "provenance": []
    },
    "kernelspec": {
      "name": "python3",
      "display_name": "Python 3"
    }
  },
  "cells": [
    {
      "cell_type": "code",
      "metadata": {
        "id": "KpGokCV2587V",
        "colab_type": "code",
        "colab": {}
      },
      "source": [
        "import pandas as pd\n",
        "import numpy as np\n",
        "import matplotlib.pyplot as plt\n",
        "import seaborn as sns"
      ],
      "execution_count": 19,
      "outputs": []
    },
    {
      "cell_type": "code",
      "metadata": {
        "id": "ezDvuiQB6Ekk",
        "colab_type": "code",
        "colab": {
          "base_uri": "https://localhost:8080/",
          "height": 310
        },
        "outputId": "e065a34c-eb38-4b26-93f4-eb644adb0314"
      },
      "source": [
        "df = pd.read_csv('last240Days_lang.csv')\n",
        "df.head()"
      ],
      "execution_count": 20,
      "outputs": [
        {
          "output_type": "execute_result",
          "data": {
            "text/html": [
              "<div>\n",
              "<style scoped>\n",
              "    .dataframe tbody tr th:only-of-type {\n",
              "        vertical-align: middle;\n",
              "    }\n",
              "\n",
              "    .dataframe tbody tr th {\n",
              "        vertical-align: top;\n",
              "    }\n",
              "\n",
              "    .dataframe thead th {\n",
              "        text-align: right;\n",
              "    }\n",
              "</style>\n",
              "<table border=\"1\" class=\"dataframe\">\n",
              "  <thead>\n",
              "    <tr style=\"text-align: right;\">\n",
              "      <th></th>\n",
              "      <th>Post ID</th>\n",
              "      <th>Title</th>\n",
              "      <th>URL</th>\n",
              "      <th>Author</th>\n",
              "      <th>Score</th>\n",
              "      <th>Publish Date</th>\n",
              "      <th>Total number of comments</th>\n",
              "      <th>Permalink</th>\n",
              "      <th>Flair</th>\n",
              "      <th>Language</th>\n",
              "    </tr>\n",
              "  </thead>\n",
              "  <tbody>\n",
              "    <tr>\n",
              "      <th>0</th>\n",
              "      <td>e0xx7y</td>\n",
              "      <td>US committed to securing trade deal with China...</td>\n",
              "      <td>https://www.businessinsider.com/us-warns-chine...</td>\n",
              "      <td>viva_la_vinyl</td>\n",
              "      <td>1</td>\n",
              "      <td>2019-11-24 13:27:28</td>\n",
              "      <td>3</td>\n",
              "      <td>/r/worldnews/comments/e0xx7y/us_committed_to_s...</td>\n",
              "      <td>NaN</td>\n",
              "      <td>b'en'</td>\n",
              "    </tr>\n",
              "    <tr>\n",
              "      <th>1</th>\n",
              "      <td>e0xyfw</td>\n",
              "      <td>Pope Francis orders world leaders to give up a...</td>\n",
              "      <td>https://www.france24.com/en/20191124-pope-fran...</td>\n",
              "      <td>viva_la_vinyl</td>\n",
              "      <td>1</td>\n",
              "      <td>2019-11-24 13:31:12</td>\n",
              "      <td>92</td>\n",
              "      <td>/r/worldnews/comments/e0xyfw/pope_francis_orde...</td>\n",
              "      <td>NaN</td>\n",
              "      <td>b'en'</td>\n",
              "    </tr>\n",
              "    <tr>\n",
              "      <th>2</th>\n",
              "      <td>e0xyox</td>\n",
              "      <td>‘Racist and Islamopobic': Man Brutally Attacks...</td>\n",
              "      <td>https://www.news18.com/news/buzz/racist-and-is...</td>\n",
              "      <td>420catnip</td>\n",
              "      <td>1</td>\n",
              "      <td>2019-11-24 13:31:48</td>\n",
              "      <td>0</td>\n",
              "      <td>/r/worldnews/comments/e0xyox/racist_and_islamo...</td>\n",
              "      <td>NaN</td>\n",
              "      <td>b'en'</td>\n",
              "    </tr>\n",
              "    <tr>\n",
              "      <th>3</th>\n",
              "      <td>e0xypu</td>\n",
              "      <td>Global 5G deal poses significant threat to wea...</td>\n",
              "      <td>https://www.washingtonpost.com/weather/2019/11...</td>\n",
              "      <td>Philo1927</td>\n",
              "      <td>1</td>\n",
              "      <td>2019-11-24 13:31:54</td>\n",
              "      <td>1</td>\n",
              "      <td>/r/worldnews/comments/e0xypu/global_5g_deal_po...</td>\n",
              "      <td>NaN</td>\n",
              "      <td>b'en'</td>\n",
              "    </tr>\n",
              "    <tr>\n",
              "      <th>4</th>\n",
              "      <td>e0xywy</td>\n",
              "      <td>DisguisedToast, a top Twitch streamer, is movi...</td>\n",
              "      <td>https://smartrobotics.com.ng/2019/11/22/disgui...</td>\n",
              "      <td>jbawo</td>\n",
              "      <td>1</td>\n",
              "      <td>2019-11-24 13:32:27</td>\n",
              "      <td>0</td>\n",
              "      <td>/r/worldnews/comments/e0xywy/disguisedtoast_a_...</td>\n",
              "      <td>NaN</td>\n",
              "      <td>b'en'</td>\n",
              "    </tr>\n",
              "  </tbody>\n",
              "</table>\n",
              "</div>"
            ],
            "text/plain": [
              "  Post ID                                              Title  ... Flair Language\n",
              "0  e0xx7y  US committed to securing trade deal with China...  ...   NaN    b'en'\n",
              "1  e0xyfw  Pope Francis orders world leaders to give up a...  ...   NaN    b'en'\n",
              "2  e0xyox  ‘Racist and Islamopobic': Man Brutally Attacks...  ...   NaN    b'en'\n",
              "3  e0xypu  Global 5G deal poses significant threat to wea...  ...   NaN    b'en'\n",
              "4  e0xywy  DisguisedToast, a top Twitch streamer, is movi...  ...   NaN    b'en'\n",
              "\n",
              "[5 rows x 10 columns]"
            ]
          },
          "metadata": {
            "tags": []
          },
          "execution_count": 20
        }
      ]
    },
    {
      "cell_type": "code",
      "metadata": {
        "id": "cA0-_bAa6fiX",
        "colab_type": "code",
        "colab": {}
      },
      "source": [
        "df[\"Language\"] = df[\"Language\"].str.lstrip(\"'b'\").str.rstrip(\"'\")"
      ],
      "execution_count": 21,
      "outputs": []
    },
    {
      "cell_type": "code",
      "metadata": {
        "id": "6fou6l8W6qDf",
        "colab_type": "code",
        "colab": {
          "base_uri": "https://localhost:8080/",
          "height": 310
        },
        "outputId": "288b531b-9d11-46e3-b094-a762362637bb"
      },
      "source": [
        "df.head()"
      ],
      "execution_count": 22,
      "outputs": [
        {
          "output_type": "execute_result",
          "data": {
            "text/html": [
              "<div>\n",
              "<style scoped>\n",
              "    .dataframe tbody tr th:only-of-type {\n",
              "        vertical-align: middle;\n",
              "    }\n",
              "\n",
              "    .dataframe tbody tr th {\n",
              "        vertical-align: top;\n",
              "    }\n",
              "\n",
              "    .dataframe thead th {\n",
              "        text-align: right;\n",
              "    }\n",
              "</style>\n",
              "<table border=\"1\" class=\"dataframe\">\n",
              "  <thead>\n",
              "    <tr style=\"text-align: right;\">\n",
              "      <th></th>\n",
              "      <th>Post ID</th>\n",
              "      <th>Title</th>\n",
              "      <th>URL</th>\n",
              "      <th>Author</th>\n",
              "      <th>Score</th>\n",
              "      <th>Publish Date</th>\n",
              "      <th>Total number of comments</th>\n",
              "      <th>Permalink</th>\n",
              "      <th>Flair</th>\n",
              "      <th>Language</th>\n",
              "    </tr>\n",
              "  </thead>\n",
              "  <tbody>\n",
              "    <tr>\n",
              "      <th>0</th>\n",
              "      <td>e0xx7y</td>\n",
              "      <td>US committed to securing trade deal with China...</td>\n",
              "      <td>https://www.businessinsider.com/us-warns-chine...</td>\n",
              "      <td>viva_la_vinyl</td>\n",
              "      <td>1</td>\n",
              "      <td>2019-11-24 13:27:28</td>\n",
              "      <td>3</td>\n",
              "      <td>/r/worldnews/comments/e0xx7y/us_committed_to_s...</td>\n",
              "      <td>NaN</td>\n",
              "      <td>en</td>\n",
              "    </tr>\n",
              "    <tr>\n",
              "      <th>1</th>\n",
              "      <td>e0xyfw</td>\n",
              "      <td>Pope Francis orders world leaders to give up a...</td>\n",
              "      <td>https://www.france24.com/en/20191124-pope-fran...</td>\n",
              "      <td>viva_la_vinyl</td>\n",
              "      <td>1</td>\n",
              "      <td>2019-11-24 13:31:12</td>\n",
              "      <td>92</td>\n",
              "      <td>/r/worldnews/comments/e0xyfw/pope_francis_orde...</td>\n",
              "      <td>NaN</td>\n",
              "      <td>en</td>\n",
              "    </tr>\n",
              "    <tr>\n",
              "      <th>2</th>\n",
              "      <td>e0xyox</td>\n",
              "      <td>‘Racist and Islamopobic': Man Brutally Attacks...</td>\n",
              "      <td>https://www.news18.com/news/buzz/racist-and-is...</td>\n",
              "      <td>420catnip</td>\n",
              "      <td>1</td>\n",
              "      <td>2019-11-24 13:31:48</td>\n",
              "      <td>0</td>\n",
              "      <td>/r/worldnews/comments/e0xyox/racist_and_islamo...</td>\n",
              "      <td>NaN</td>\n",
              "      <td>en</td>\n",
              "    </tr>\n",
              "    <tr>\n",
              "      <th>3</th>\n",
              "      <td>e0xypu</td>\n",
              "      <td>Global 5G deal poses significant threat to wea...</td>\n",
              "      <td>https://www.washingtonpost.com/weather/2019/11...</td>\n",
              "      <td>Philo1927</td>\n",
              "      <td>1</td>\n",
              "      <td>2019-11-24 13:31:54</td>\n",
              "      <td>1</td>\n",
              "      <td>/r/worldnews/comments/e0xypu/global_5g_deal_po...</td>\n",
              "      <td>NaN</td>\n",
              "      <td>en</td>\n",
              "    </tr>\n",
              "    <tr>\n",
              "      <th>4</th>\n",
              "      <td>e0xywy</td>\n",
              "      <td>DisguisedToast, a top Twitch streamer, is movi...</td>\n",
              "      <td>https://smartrobotics.com.ng/2019/11/22/disgui...</td>\n",
              "      <td>jbawo</td>\n",
              "      <td>1</td>\n",
              "      <td>2019-11-24 13:32:27</td>\n",
              "      <td>0</td>\n",
              "      <td>/r/worldnews/comments/e0xywy/disguisedtoast_a_...</td>\n",
              "      <td>NaN</td>\n",
              "      <td>en</td>\n",
              "    </tr>\n",
              "  </tbody>\n",
              "</table>\n",
              "</div>"
            ],
            "text/plain": [
              "  Post ID                                              Title  ... Flair Language\n",
              "0  e0xx7y  US committed to securing trade deal with China...  ...   NaN       en\n",
              "1  e0xyfw  Pope Francis orders world leaders to give up a...  ...   NaN       en\n",
              "2  e0xyox  ‘Racist and Islamopobic': Man Brutally Attacks...  ...   NaN       en\n",
              "3  e0xypu  Global 5G deal poses significant threat to wea...  ...   NaN       en\n",
              "4  e0xywy  DisguisedToast, a top Twitch streamer, is movi...  ...   NaN       en\n",
              "\n",
              "[5 rows x 10 columns]"
            ]
          },
          "metadata": {
            "tags": []
          },
          "execution_count": 22
        }
      ]
    },
    {
      "cell_type": "code",
      "metadata": {
        "id": "bUSmE4D48WBL",
        "colab_type": "code",
        "colab": {
          "base_uri": "https://localhost:8080/",
          "height": 139
        },
        "outputId": "2c7099ca-6367-4b50-d596-cf502a7b5479"
      },
      "source": [
        "langs = df.groupby(\"Language\").nunique()[\"Post ID\"]\n",
        "langs.head()"
      ],
      "execution_count": 23,
      "outputs": [
        {
          "output_type": "execute_result",
          "data": {
            "text/plain": [
              "Language\n",
              "af      648\n",
              "ar    13683\n",
              "ca     1132\n",
              "cs       10\n",
              "cy      271\n",
              "Name: Post ID, dtype: int64"
            ]
          },
          "metadata": {
            "tags": []
          },
          "execution_count": 23
        }
      ]
    },
    {
      "cell_type": "code",
      "metadata": {
        "id": "T90udGQV85nk",
        "colab_type": "code",
        "colab": {}
      },
      "source": [
        "langs.drop('error', inplace=True)"
      ],
      "execution_count": 24,
      "outputs": []
    },
    {
      "cell_type": "code",
      "metadata": {
        "id": "pK3YrqKz-M_4",
        "colab_type": "code",
        "colab": {
          "base_uri": "https://localhost:8080/",
          "height": 363
        },
        "outputId": "20005e80-89ed-4cf0-f6db-7993c5eae335"
      },
      "source": [
        "langs = langs.sort_values(ascending=False)\n",
        "langs = langs.reset_index()\n",
        "langs.columns = [\"Language\", \"Count\"]\n",
        "langs.head(10)"
      ],
      "execution_count": 25,
      "outputs": [
        {
          "output_type": "execute_result",
          "data": {
            "text/html": [
              "<div>\n",
              "<style scoped>\n",
              "    .dataframe tbody tr th:only-of-type {\n",
              "        vertical-align: middle;\n",
              "    }\n",
              "\n",
              "    .dataframe tbody tr th {\n",
              "        vertical-align: top;\n",
              "    }\n",
              "\n",
              "    .dataframe thead th {\n",
              "        text-align: right;\n",
              "    }\n",
              "</style>\n",
              "<table border=\"1\" class=\"dataframe\">\n",
              "  <thead>\n",
              "    <tr style=\"text-align: right;\">\n",
              "      <th></th>\n",
              "      <th>Language</th>\n",
              "      <th>Count</th>\n",
              "    </tr>\n",
              "  </thead>\n",
              "  <tbody>\n",
              "    <tr>\n",
              "      <th>0</th>\n",
              "      <td>en</td>\n",
              "      <td>250898</td>\n",
              "    </tr>\n",
              "    <tr>\n",
              "      <th>1</th>\n",
              "      <td>ar</td>\n",
              "      <td>13683</td>\n",
              "    </tr>\n",
              "    <tr>\n",
              "      <th>2</th>\n",
              "      <td>es</td>\n",
              "      <td>7225</td>\n",
              "    </tr>\n",
              "    <tr>\n",
              "      <th>3</th>\n",
              "      <td>pt</td>\n",
              "      <td>3287</td>\n",
              "    </tr>\n",
              "    <tr>\n",
              "      <th>4</th>\n",
              "      <td>vi</td>\n",
              "      <td>2608</td>\n",
              "    </tr>\n",
              "    <tr>\n",
              "      <th>5</th>\n",
              "      <td>it</td>\n",
              "      <td>2534</td>\n",
              "    </tr>\n",
              "    <tr>\n",
              "      <th>6</th>\n",
              "      <td>de</td>\n",
              "      <td>2199</td>\n",
              "    </tr>\n",
              "    <tr>\n",
              "      <th>7</th>\n",
              "      <td>fr</td>\n",
              "      <td>2043</td>\n",
              "    </tr>\n",
              "    <tr>\n",
              "      <th>8</th>\n",
              "      <td>n</td>\n",
              "      <td>1315</td>\n",
              "    </tr>\n",
              "    <tr>\n",
              "      <th>9</th>\n",
              "      <td>ca</td>\n",
              "      <td>1132</td>\n",
              "    </tr>\n",
              "  </tbody>\n",
              "</table>\n",
              "</div>"
            ],
            "text/plain": [
              "  Language   Count\n",
              "0       en  250898\n",
              "1       ar   13683\n",
              "2       es    7225\n",
              "3       pt    3287\n",
              "4       vi    2608\n",
              "5       it    2534\n",
              "6       de    2199\n",
              "7       fr    2043\n",
              "8        n    1315\n",
              "9       ca    1132"
            ]
          },
          "metadata": {
            "tags": []
          },
          "execution_count": 25
        }
      ]
    },
    {
      "cell_type": "code",
      "metadata": {
        "id": "IASbyx_I9LMT",
        "colab_type": "code",
        "colab": {
          "base_uri": "https://localhost:8080/",
          "height": 621
        },
        "outputId": "7e5ec26c-bbda-44d5-b489-1ebe5bd6698d"
      },
      "source": [
        "# plotting\n",
        "ax, fig = plt.subplots(figsize=(20,10))\n",
        "ax = sns.barplot(x=\"Language\", y=\"Count\", data=langs[:10], palette='Spectral')\n",
        "ax.set(xlabel=\"Language\", ylabel=\"Number of posts (last 8 months)\", title=\"Top 10 languages on r/wordnews\")\n",
        "ax.grid()\n",
        "plt.show()"
      ],
      "execution_count": 26,
      "outputs": [
        {
          "output_type": "display_data",
          "data": {
            "image/png": "[encoded data removed]",
            "text/plain": [
              "<Figure size 1440x720 with 1 Axes>"
            ]
          },
          "metadata": {
            "tags": [],
            "needs_background": "light"
          }
        }
      ]
    },
    {
      "cell_type": "code",
      "metadata": {
        "id": "g74kt0N1_Tf1",
        "colab_type": "code",
        "colab": {}
      },
      "source": [
        ""
      ],
      "execution_count": null,
      "outputs": []
    }
  ]
}