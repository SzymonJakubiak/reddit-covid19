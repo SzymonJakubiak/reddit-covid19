{
 "nbformat": 4,
 "nbformat_minor": 2,
 "metadata": {
  "language_info": {
   "name": "python",
   "codemirror_mode": {
    "name": "ipython",
    "version": 3
   },
   "version": "3.7.7-final"
  },
  "orig_nbformat": 2,
  "file_extension": ".py",
  "mimetype": "text/x-python",
  "name": "python",
  "npconvert_exporter": "python",
  "pygments_lexer": "ipython3",
  "version": 3,
  "kernelspec": {
   "name": "python3",
   "display_name": "Python 3"
  }
 },
 "cells": [
  {
   "cell_type": "code",
   "execution_count": 18,
   "metadata": {},
   "outputs": [],
   "source": [
    "import pandas as pd\n",
    "import numpy as np\n",
    "import re"
   ]
  },
  {
   "cell_type": "code",
   "execution_count": 19,
   "metadata": {},
   "outputs": [],
   "source": [
    "# Loading data\n",
    "dfCSV = pd.read_csv('last3Months.csv', encoding='utf-8')"
   ]
  },
  {
   "cell_type": "code",
   "execution_count": 20,
   "metadata": {},
   "outputs": [],
   "source": [
    "# Cutting specific hours from the dates\n",
    "datesList = list(dfCSV['Publish Date'])\n",
    "for index in range(len(datesList)):\n",
    "    datesList[index] = datesList[index][:10]"
   ]
  },
  {
   "cell_type": "code",
   "execution_count": 21,
   "metadata": {},
   "outputs": [],
   "source": [
    "# Getting tags list\n",
    "tagsList = list(dfCSV['Flair'])"
   ]
  },
  {
   "cell_type": "code",
   "execution_count": 22,
   "metadata": {},
   "outputs": [],
   "source": [
    "# Building DataFrame for counting tags & all comissions\n",
    "dfDatesTags = pd.DataFrame(list(zip(datesList, tagsList)), columns=['Date', 'Tag'])"
   ]
  },
  {
   "cell_type": "code",
   "execution_count": 23,
   "metadata": {},
   "outputs": [],
   "source": [
    "groupedTotal = dfDatesTags.groupby(['Date']).size()\n",
    "# Getting every unique date\n",
    "dayDates = list(groupedTotal.keys())\n",
    "# Getting total number of submissions per day\n",
    "dayTotal = list(groupedTotal.values)"
   ]
  },
  {
   "cell_type": "code",
   "execution_count": 24,
   "metadata": {},
   "outputs": [],
   "source": [
    "groupedTags = dfDatesTags.groupby(['Date', 'Tag']).size()\n",
    "# Dictionary with unique tags\n",
    "tagsDictionary = {}\n",
    "# 2-dimensional list of keys\n",
    "keys2D = groupedTags.keys()\n",
    "\n",
    "# Loop over every (date, tag) touple\n",
    "for key in keys2D:\n",
    "    # getting a tag\n",
    "    tag = key[1]\n",
    "    if tag not in tagsDictionary:\n",
    "        tagsDictionary[tag] = []"
   ]
  },
  {
   "cell_type": "code",
   "execution_count": 25,
   "metadata": {},
   "outputs": [],
   "source": [
    "# For every day\n",
    "for day in dayDates:\n",
    "    # For every tag\n",
    "    for tag in tagsDictionary:\n",
    "        # Append to a list number of times the tag appeared\n",
    "        try:\n",
    "            tagsDictionary[tag].append(groupedTags[day][tag])\n",
    "        except KeyError:\n",
    "            tagsDictionary[tag].append(0)"
   ]
  },
  {
   "cell_type": "code",
   "execution_count": 26,
   "metadata": {},
   "outputs": [],
   "source": [
    "# Adding previously computed values to the dictionary\n",
    "tagsDictionary['Date'] = dayDates\n",
    "tagsDictionary['Total'] = dayTotal"
   ]
  },
  {
   "cell_type": "code",
   "execution_count": 27,
   "metadata": {},
   "outputs": [],
   "source": [
    "# Building final dataframe\n",
    "dfFinal = pd.DataFrame.from_dict(tagsDictionary)"
   ]
  },
  {
   "cell_type": "code",
   "execution_count": 28,
   "metadata": {},
   "outputs": [],
   "source": [
    "# Dropping last column (not a full - 24h day)\n",
    "dfFinal.drop(dfFinal.tail(1).index, inplace=True)"
   ]
  },
  {
   "cell_type": "code",
   "execution_count": 29,
   "metadata": {},
   "outputs": [
    {
     "output_type": "execute_result",
     "data": {
      "text/plain": "    Behind Soft Paywall  Hong Kong  Israel/Palestine  No ALL CAPS  \\\n85                   23          4                 1            3   \n86                   30          3                 3            0   \n87                   21          1                 1            3   \n88                   26          5                 3            4   \n89                   36          3                 2            5   \n\n    No Redirect URLs  No Twitter  No videos  North Korea  \\\n85                 9           6         34            4   \n86                 7           4         30            8   \n87                 4           5         31            0   \n88                13           3         21            0   \n89                 8          11         27            1   \n\n    Not Appropriate Subreddit  Opinion/Analysis  ...  No Petitions  \\\n85                          3                 9  ...             0   \n86                          4                 6  ...             1   \n87                          3                 3  ...             0   \n88                          5                 2  ...             0   \n89                          0                 5  ...             0   \n\n    Not A News Article (PDF)  No memes  No images  Auto-translated  COVID-19  \\\n85                         2         0          0                0       434   \n86                         1         0          0                0       363   \n87                         0         0          1                0       375   \n88                         1         0          1                1       433   \n89                         2         1          0                1       580   \n\n    No 'x-post' in title  Very Out Of Date        Date  Total  \n85                     0                 0  2020-03-20   1498  \n86                     0                 0  2020-03-21   1277  \n87                     0                 0  2020-03-22   1328  \n88                     0                 0  2020-03-23   1498  \n89                     0                 0  2020-03-24   1806  \n\n[5 rows x 60 columns]",
      "text/html": "<div>\n<style scoped>\n    .dataframe tbody tr th:only-of-type {\n        vertical-align: middle;\n    }\n\n    .dataframe tbody tr th {\n        vertical-align: top;\n    }\n\n    .dataframe thead th {\n        text-align: right;\n    }\n</style>\n<table border=\"1\" class=\"dataframe\">\n  <thead>\n    <tr style=\"text-align: right;\">\n      <th></th>\n      <th>Behind Soft Paywall</th>\n      <th>Hong Kong</th>\n      <th>Israel/Palestine</th>\n      <th>No ALL CAPS</th>\n      <th>No Redirect URLs</th>\n      <th>No Twitter</th>\n      <th>No videos</th>\n      <th>North Korea</th>\n      <th>Not Appropriate Subreddit</th>\n      <th>Opinion/Analysis</th>\n      <th>...</th>\n      <th>No Petitions</th>\n      <th>Not A News Article (PDF)</th>\n      <th>No memes</th>\n      <th>No images</th>\n      <th>Auto-translated</th>\n      <th>COVID-19</th>\n      <th>No 'x-post' in title</th>\n      <th>Very Out Of Date</th>\n      <th>Date</th>\n      <th>Total</th>\n    </tr>\n  </thead>\n  <tbody>\n    <tr>\n      <th>85</th>\n      <td>23</td>\n      <td>4</td>\n      <td>1</td>\n      <td>3</td>\n      <td>9</td>\n      <td>6</td>\n      <td>34</td>\n      <td>4</td>\n      <td>3</td>\n      <td>9</td>\n      <td>...</td>\n      <td>0</td>\n      <td>2</td>\n      <td>0</td>\n      <td>0</td>\n      <td>0</td>\n      <td>434</td>\n      <td>0</td>\n      <td>0</td>\n      <td>2020-03-20</td>\n      <td>1498</td>\n    </tr>\n    <tr>\n      <th>86</th>\n      <td>30</td>\n      <td>3</td>\n      <td>3</td>\n      <td>0</td>\n      <td>7</td>\n      <td>4</td>\n      <td>30</td>\n      <td>8</td>\n      <td>4</td>\n      <td>6</td>\n      <td>...</td>\n      <td>1</td>\n      <td>1</td>\n      <td>0</td>\n      <td>0</td>\n      <td>0</td>\n      <td>363</td>\n      <td>0</td>\n      <td>0</td>\n      <td>2020-03-21</td>\n      <td>1277</td>\n    </tr>\n    <tr>\n      <th>87</th>\n      <td>21</td>\n      <td>1</td>\n      <td>1</td>\n      <td>3</td>\n      <td>4</td>\n      <td>5</td>\n      <td>31</td>\n      <td>0</td>\n      <td>3</td>\n      <td>3</td>\n      <td>...</td>\n      <td>0</td>\n      <td>0</td>\n      <td>0</td>\n      <td>1</td>\n      <td>0</td>\n      <td>375</td>\n      <td>0</td>\n      <td>0</td>\n      <td>2020-03-22</td>\n      <td>1328</td>\n    </tr>\n    <tr>\n      <th>88</th>\n      <td>26</td>\n      <td>5</td>\n      <td>3</td>\n      <td>4</td>\n      <td>13</td>\n      <td>3</td>\n      <td>21</td>\n      <td>0</td>\n      <td>5</td>\n      <td>2</td>\n      <td>...</td>\n      <td>0</td>\n      <td>1</td>\n      <td>0</td>\n      <td>1</td>\n      <td>1</td>\n      <td>433</td>\n      <td>0</td>\n      <td>0</td>\n      <td>2020-03-23</td>\n      <td>1498</td>\n    </tr>\n    <tr>\n      <th>89</th>\n      <td>36</td>\n      <td>3</td>\n      <td>2</td>\n      <td>5</td>\n      <td>8</td>\n      <td>11</td>\n      <td>27</td>\n      <td>1</td>\n      <td>0</td>\n      <td>5</td>\n      <td>...</td>\n      <td>0</td>\n      <td>2</td>\n      <td>1</td>\n      <td>0</td>\n      <td>1</td>\n      <td>580</td>\n      <td>0</td>\n      <td>0</td>\n      <td>2020-03-24</td>\n      <td>1806</td>\n    </tr>\n  </tbody>\n</table>\n<p>5 rows × 60 columns</p>\n</div>"
     },
     "metadata": {},
     "execution_count": 29
    }
   ],
   "source": [
    "dfFinal.tail(5)"
   ]
  },
  {
   "cell_type": "code",
   "execution_count": 30,
   "metadata": {},
   "outputs": [],
   "source": [
    "# COVID-19 tag was introduced in March, let's see how many non-tagged entries there are\n",
    "import re\n",
    "dfNotTagged = dfCSV.loc[(dfCSV['Title'].str.contains('virus|sars|covid|pandemic|epidemy', flags=re.I, regex=True)) & (dfCSV['Flair'].isna())]"
   ]
  },
  {
   "cell_type": "code",
   "execution_count": 31,
   "metadata": {},
   "outputs": [],
   "source": [
    "# Cutting hours from the dates\n",
    "notTaggedDates = list(dfNotTagged['Publish Date'])\n",
    "for index in range(len(notTaggedDates)):\n",
    "    notTaggedDates[index] = notTaggedDates[index][:10]"
   ]
  },
  {
   "cell_type": "code",
   "execution_count": 32,
   "metadata": {},
   "outputs": [],
   "source": [
    "dfNotTagged['Publish Date'] = notTaggedDates\n",
    "dfNotTaggedGroup = dfNotTagged.groupby(['Publish Date']).size()"
   ]
  },
  {
   "cell_type": "code",
   "execution_count": 33,
   "metadata": {},
   "outputs": [],
   "source": [
    "dfNotTaggedGroup = dfNotTaggedGroup.reset_index()\n",
    "dfNotTaggedGroup.rename(columns={'Publish Date': 'Date', 0: 'COVID-not-tagged'}, inplace=True)"
   ]
  },
  {
   "cell_type": "code",
   "execution_count": 34,
   "metadata": {},
   "outputs": [],
   "source": [
    "# Left-join dfFinal with dfNotTaggedGroup\n",
    "dfFinalMerged = dfFinal.merge(dfNotTaggedGroup, on='Date', how='left')"
   ]
  },
  {
   "cell_type": "code",
   "execution_count": 35,
   "metadata": {},
   "outputs": [],
   "source": [
    "# Filling NaN with 0's\n",
    "dfFinalMerged['COVID-not-tagged'].fillna(0, inplace=True)\n",
    "# Changing column's data type to int (previously NaN required float)\n",
    "dfFinalMerged = dfFinalMerged.astype({'COVID-not-tagged': int})"
   ]
  },
  {
   "cell_type": "code",
   "execution_count": 37,
   "metadata": {},
   "outputs": [
    {
     "output_type": "execute_result",
     "data": {
      "text/plain": "   Behind Soft Paywall  Hong Kong  Israel/Palestine  No ALL CAPS  \\\n0                    5          6                 8            2   \n1                   18          4                12            1   \n2                   21          7                 4            0   \n3                   14          7                 4            0   \n4                   14          6                 6            0   \n5                   10         12                 5            1   \n6                   11         13                 6            0   \n7                   11         13                15            0   \n8                   16         13                 6            1   \n9                    7         11                 3            4   \n\n   No Redirect URLs  No Twitter  No videos  North Korea  \\\n0                 1           1          4            2   \n1                 3           1          6            5   \n2                 1           2         13            4   \n3                 0           0          7            7   \n4                 0           2         14           10   \n5                 1           3         15            4   \n6                 0           3          6            4   \n7                 1           4          3            2   \n8                20          29         18            2   \n9                 9          13         16            1   \n\n   Not Appropriate Subreddit  Opinion/Analysis  ...  Not A News Article (PDF)  \\\n0                          5                 2  ...                         0   \n1                         11                 2  ...                         0   \n2                          2                 3  ...                         0   \n3                          0                 2  ...                         0   \n4                          0                 4  ...                         0   \n5                          1                 0  ...                         0   \n6                          0                 2  ...                         0   \n7                         11                 7  ...                         0   \n8                         23                61  ...                         0   \n9                         22                39  ...                         0   \n\n   No memes  No images  Auto-translated  COVID-19  No 'x-post' in title  \\\n0         0          0                0         0                     0   \n1         0          0                0         0                     0   \n2         0          0                0         0                     0   \n3         0          0                0         0                     0   \n4         0          0                0         0                     0   \n5         0          0                0         0                     0   \n6         0          0                0         0                     0   \n7         0          0                0         0                     0   \n8         0          0                0         0                     0   \n9         0          0                0         0                     0   \n\n   Very Out Of Date        Date  Total  COVID-not-tagged  \n0                 0  2019-12-26    441                 0  \n1                 0  2019-12-27    741                 0  \n2                 0  2019-12-28    637                 0  \n3                 0  2019-12-29    626                 0  \n4                 0  2019-12-30    701                 1  \n5                 0  2019-12-31    691                 1  \n6                 0  2020-01-01    531                 3  \n7                 0  2020-01-02    723                 3  \n8                 0  2020-01-03   1065                 4  \n9                 0  2020-01-04    891                 1  \n\n[10 rows x 61 columns]",
      "text/html": "<div>\n<style scoped>\n    .dataframe tbody tr th:only-of-type {\n        vertical-align: middle;\n    }\n\n    .dataframe tbody tr th {\n        vertical-align: top;\n    }\n\n    .dataframe thead th {\n        text-align: right;\n    }\n</style>\n<table border=\"1\" class=\"dataframe\">\n  <thead>\n    <tr style=\"text-align: right;\">\n      <th></th>\n      <th>Behind Soft Paywall</th>\n      <th>Hong Kong</th>\n      <th>Israel/Palestine</th>\n      <th>No ALL CAPS</th>\n      <th>No Redirect URLs</th>\n      <th>No Twitter</th>\n      <th>No videos</th>\n      <th>North Korea</th>\n      <th>Not Appropriate Subreddit</th>\n      <th>Opinion/Analysis</th>\n      <th>...</th>\n      <th>Not A News Article (PDF)</th>\n      <th>No memes</th>\n      <th>No images</th>\n      <th>Auto-translated</th>\n      <th>COVID-19</th>\n      <th>No 'x-post' in title</th>\n      <th>Very Out Of Date</th>\n      <th>Date</th>\n      <th>Total</th>\n      <th>COVID-not-tagged</th>\n    </tr>\n  </thead>\n  <tbody>\n    <tr>\n      <th>0</th>\n      <td>5</td>\n      <td>6</td>\n      <td>8</td>\n      <td>2</td>\n      <td>1</td>\n      <td>1</td>\n      <td>4</td>\n      <td>2</td>\n      <td>5</td>\n      <td>2</td>\n      <td>...</td>\n      <td>0</td>\n      <td>0</td>\n      <td>0</td>\n      <td>0</td>\n      <td>0</td>\n      <td>0</td>\n      <td>0</td>\n      <td>2019-12-26</td>\n      <td>441</td>\n      <td>0</td>\n    </tr>\n    <tr>\n      <th>1</th>\n      <td>18</td>\n      <td>4</td>\n      <td>12</td>\n      <td>1</td>\n      <td>3</td>\n      <td>1</td>\n      <td>6</td>\n      <td>5</td>\n      <td>11</td>\n      <td>2</td>\n      <td>...</td>\n      <td>0</td>\n      <td>0</td>\n      <td>0</td>\n      <td>0</td>\n      <td>0</td>\n      <td>0</td>\n      <td>0</td>\n      <td>2019-12-27</td>\n      <td>741</td>\n      <td>0</td>\n    </tr>\n    <tr>\n      <th>2</th>\n      <td>21</td>\n      <td>7</td>\n      <td>4</td>\n      <td>0</td>\n      <td>1</td>\n      <td>2</td>\n      <td>13</td>\n      <td>4</td>\n      <td>2</td>\n      <td>3</td>\n      <td>...</td>\n      <td>0</td>\n      <td>0</td>\n      <td>0</td>\n      <td>0</td>\n      <td>0</td>\n      <td>0</td>\n      <td>0</td>\n      <td>2019-12-28</td>\n      <td>637</td>\n      <td>0</td>\n    </tr>\n    <tr>\n      <th>3</th>\n      <td>14</td>\n      <td>7</td>\n      <td>4</td>\n      <td>0</td>\n      <td>0</td>\n      <td>0</td>\n      <td>7</td>\n      <td>7</td>\n      <td>0</td>\n      <td>2</td>\n      <td>...</td>\n      <td>0</td>\n      <td>0</td>\n      <td>0</td>\n      <td>0</td>\n      <td>0</td>\n      <td>0</td>\n      <td>0</td>\n      <td>2019-12-29</td>\n      <td>626</td>\n      <td>0</td>\n    </tr>\n    <tr>\n      <th>4</th>\n      <td>14</td>\n      <td>6</td>\n      <td>6</td>\n      <td>0</td>\n      <td>0</td>\n      <td>2</td>\n      <td>14</td>\n      <td>10</td>\n      <td>0</td>\n      <td>4</td>\n      <td>...</td>\n      <td>0</td>\n      <td>0</td>\n      <td>0</td>\n      <td>0</td>\n      <td>0</td>\n      <td>0</td>\n      <td>0</td>\n      <td>2019-12-30</td>\n      <td>701</td>\n      <td>1</td>\n    </tr>\n    <tr>\n      <th>5</th>\n      <td>10</td>\n      <td>12</td>\n      <td>5</td>\n      <td>1</td>\n      <td>1</td>\n      <td>3</td>\n      <td>15</td>\n      <td>4</td>\n      <td>1</td>\n      <td>0</td>\n      <td>...</td>\n      <td>0</td>\n      <td>0</td>\n      <td>0</td>\n      <td>0</td>\n      <td>0</td>\n      <td>0</td>\n      <td>0</td>\n      <td>2019-12-31</td>\n      <td>691</td>\n      <td>1</td>\n    </tr>\n    <tr>\n      <th>6</th>\n      <td>11</td>\n      <td>13</td>\n      <td>6</td>\n      <td>0</td>\n      <td>0</td>\n      <td>3</td>\n      <td>6</td>\n      <td>4</td>\n      <td>0</td>\n      <td>2</td>\n      <td>...</td>\n      <td>0</td>\n      <td>0</td>\n      <td>0</td>\n      <td>0</td>\n      <td>0</td>\n      <td>0</td>\n      <td>0</td>\n      <td>2020-01-01</td>\n      <td>531</td>\n      <td>3</td>\n    </tr>\n    <tr>\n      <th>7</th>\n      <td>11</td>\n      <td>13</td>\n      <td>15</td>\n      <td>0</td>\n      <td>1</td>\n      <td>4</td>\n      <td>3</td>\n      <td>2</td>\n      <td>11</td>\n      <td>7</td>\n      <td>...</td>\n      <td>0</td>\n      <td>0</td>\n      <td>0</td>\n      <td>0</td>\n      <td>0</td>\n      <td>0</td>\n      <td>0</td>\n      <td>2020-01-02</td>\n      <td>723</td>\n      <td>3</td>\n    </tr>\n    <tr>\n      <th>8</th>\n      <td>16</td>\n      <td>13</td>\n      <td>6</td>\n      <td>1</td>\n      <td>20</td>\n      <td>29</td>\n      <td>18</td>\n      <td>2</td>\n      <td>23</td>\n      <td>61</td>\n      <td>...</td>\n      <td>0</td>\n      <td>0</td>\n      <td>0</td>\n      <td>0</td>\n      <td>0</td>\n      <td>0</td>\n      <td>0</td>\n      <td>2020-01-03</td>\n      <td>1065</td>\n      <td>4</td>\n    </tr>\n    <tr>\n      <th>9</th>\n      <td>7</td>\n      <td>11</td>\n      <td>3</td>\n      <td>4</td>\n      <td>9</td>\n      <td>13</td>\n      <td>16</td>\n      <td>1</td>\n      <td>22</td>\n      <td>39</td>\n      <td>...</td>\n      <td>0</td>\n      <td>0</td>\n      <td>0</td>\n      <td>0</td>\n      <td>0</td>\n      <td>0</td>\n      <td>0</td>\n      <td>2020-01-04</td>\n      <td>891</td>\n      <td>1</td>\n    </tr>\n  </tbody>\n</table>\n<p>10 rows × 61 columns</p>\n</div>"
     },
     "metadata": {},
     "execution_count": 37
    }
   ],
   "source": [
    "dfFinalMerged.head(10)"
   ]
  },
  {
   "cell_type": "markdown",
   "metadata": {},
   "source": [
    "Now it is a good idea to get rid of trashy posts (tagged as 'No ALL CAPS', 'No vides', 'No Redirect URLs'....)"
   ]
  },
  {
   "cell_type": "code",
   "execution_count": 38,
   "metadata": {},
   "outputs": [],
   "source": [
    "# It will be faster to specify which tags to keep\n",
    "tagsToKeep = ['Hong Kong', 'Israel/Palestine', 'North Korea', 'Russia', 'Trump', 'COVID-19']\n",
    "# We also need those\n",
    "tagsToKeep = tagsToKeep + ['Date', 'Total', 'COVID-not-tagged']"
   ]
  },
  {
   "cell_type": "code",
   "execution_count": 39,
   "metadata": {},
   "outputs": [],
   "source": [
    "# Drop all trashy columns\n",
    "for column in dfFinalMerged.columns:\n",
    "    if column not in tagsToKeep:\n",
    "        # Subtract deleted columns from the total count\n",
    "        dfFinalMerged['Total'] = dfFinalMerged['Total'] - dfFinalMerged[column]\n",
    "        # Delete the column\n",
    "        dfFinalMerged.drop(column, axis=1, inplace=True)"
   ]
  },
  {
   "cell_type": "code",
   "execution_count": 40,
   "metadata": {},
   "outputs": [],
   "source": [
    "# Info about total # COVID posts (tagged + not-tagged)\n",
    "totalCovid = list(dfFinalMerged['COVID-not-tagged'] + dfFinalMerged['COVID-19'])\n",
    "dfFinalMerged['Total COVID'] = totalCovid"
   ]
  },
  {
   "cell_type": "code",
   "execution_count": 41,
   "metadata": {},
   "outputs": [
    {
     "output_type": "execute_result",
     "data": {
      "text/plain": "    Hong Kong  Israel/Palestine  North Korea  Russia  Trump  COVID-19  \\\n0           6                 8            2      15     15         0   \n1           4                12            5      19      7         0   \n2           7                 4            4      17     13         0   \n3           7                 4            7       8     10         0   \n4           6                 6           10      16     25         0   \n5          12                 5            4      14     23         0   \n6          13                 6            4       3     11         0   \n7          13                15            2       4     11         0   \n8          13                 6            2      13     38         0   \n9          11                 3            1       9     38         0   \n10         13                10            0       8     84         0   \n11          5                12            1       7    110         0   \n12          3                12            4      20     95         0   \n13          4                20            3      13    201         0   \n14          7                 9            2      17     70         0   \n15          8                13            1      25     48         0   \n16          8                 4            2      10     31         0   \n17          7                 7            0       8     30         0   \n18         12                13            0       3     39         0   \n19          9                 8            3      16     44         0   \n\n          Date  Total  COVID-not-tagged  Total COVID  \n0   2019-12-26    421                 0            0  \n1   2019-12-27    692                 0            0  \n2   2019-12-28    583                 0            0  \n3   2019-12-29    600                 0            0  \n4   2019-12-30    656                 1            1  \n5   2019-12-31    653                 1            1  \n6   2020-01-01    504                 3            3  \n7   2020-01-02    640                 3            3  \n8   2020-01-03    665                 4            4  \n9   2020-01-04    619                 1            1  \n10  2020-01-05   1000                 6            6  \n11  2020-01-06    973                 5            5  \n12  2020-01-07   1010                 2            2  \n13  2020-01-08   1612                 1            1  \n14  2020-01-09   1003                 8            8  \n15  2020-01-10    982                 2            2  \n16  2020-01-11   1031                 3            3  \n17  2020-01-12    870                 3            3  \n18  2020-01-13    946                 5            5  \n19  2020-01-14    999                10           10  ",
      "text/html": "<div>\n<style scoped>\n    .dataframe tbody tr th:only-of-type {\n        vertical-align: middle;\n    }\n\n    .dataframe tbody tr th {\n        vertical-align: top;\n    }\n\n    .dataframe thead th {\n        text-align: right;\n    }\n</style>\n<table border=\"1\" class=\"dataframe\">\n  <thead>\n    <tr style=\"text-align: right;\">\n      <th></th>\n      <th>Hong Kong</th>\n      <th>Israel/Palestine</th>\n      <th>North Korea</th>\n      <th>Russia</th>\n      <th>Trump</th>\n      <th>COVID-19</th>\n      <th>Date</th>\n      <th>Total</th>\n      <th>COVID-not-tagged</th>\n      <th>Total COVID</th>\n    </tr>\n  </thead>\n  <tbody>\n    <tr>\n      <th>0</th>\n      <td>6</td>\n      <td>8</td>\n      <td>2</td>\n      <td>15</td>\n      <td>15</td>\n      <td>0</td>\n      <td>2019-12-26</td>\n      <td>421</td>\n      <td>0</td>\n      <td>0</td>\n    </tr>\n    <tr>\n      <th>1</th>\n      <td>4</td>\n      <td>12</td>\n      <td>5</td>\n      <td>19</td>\n      <td>7</td>\n      <td>0</td>\n      <td>2019-12-27</td>\n      <td>692</td>\n      <td>0</td>\n      <td>0</td>\n    </tr>\n    <tr>\n      <th>2</th>\n      <td>7</td>\n      <td>4</td>\n      <td>4</td>\n      <td>17</td>\n      <td>13</td>\n      <td>0</td>\n      <td>2019-12-28</td>\n      <td>583</td>\n      <td>0</td>\n      <td>0</td>\n    </tr>\n    <tr>\n      <th>3</th>\n      <td>7</td>\n      <td>4</td>\n      <td>7</td>\n      <td>8</td>\n      <td>10</td>\n      <td>0</td>\n      <td>2019-12-29</td>\n      <td>600</td>\n      <td>0</td>\n      <td>0</td>\n    </tr>\n    <tr>\n      <th>4</th>\n      <td>6</td>\n      <td>6</td>\n      <td>10</td>\n      <td>16</td>\n      <td>25</td>\n      <td>0</td>\n      <td>2019-12-30</td>\n      <td>656</td>\n      <td>1</td>\n      <td>1</td>\n    </tr>\n    <tr>\n      <th>5</th>\n      <td>12</td>\n      <td>5</td>\n      <td>4</td>\n      <td>14</td>\n      <td>23</td>\n      <td>0</td>\n      <td>2019-12-31</td>\n      <td>653</td>\n      <td>1</td>\n      <td>1</td>\n    </tr>\n    <tr>\n      <th>6</th>\n      <td>13</td>\n      <td>6</td>\n      <td>4</td>\n      <td>3</td>\n      <td>11</td>\n      <td>0</td>\n      <td>2020-01-01</td>\n      <td>504</td>\n      <td>3</td>\n      <td>3</td>\n    </tr>\n    <tr>\n      <th>7</th>\n      <td>13</td>\n      <td>15</td>\n      <td>2</td>\n      <td>4</td>\n      <td>11</td>\n      <td>0</td>\n      <td>2020-01-02</td>\n      <td>640</td>\n      <td>3</td>\n      <td>3</td>\n    </tr>\n    <tr>\n      <th>8</th>\n      <td>13</td>\n      <td>6</td>\n      <td>2</td>\n      <td>13</td>\n      <td>38</td>\n      <td>0</td>\n      <td>2020-01-03</td>\n      <td>665</td>\n      <td>4</td>\n      <td>4</td>\n    </tr>\n    <tr>\n      <th>9</th>\n      <td>11</td>\n      <td>3</td>\n      <td>1</td>\n      <td>9</td>\n      <td>38</td>\n      <td>0</td>\n      <td>2020-01-04</td>\n      <td>619</td>\n      <td>1</td>\n      <td>1</td>\n    </tr>\n    <tr>\n      <th>10</th>\n      <td>13</td>\n      <td>10</td>\n      <td>0</td>\n      <td>8</td>\n      <td>84</td>\n      <td>0</td>\n      <td>2020-01-05</td>\n      <td>1000</td>\n      <td>6</td>\n      <td>6</td>\n    </tr>\n    <tr>\n      <th>11</th>\n      <td>5</td>\n      <td>12</td>\n      <td>1</td>\n      <td>7</td>\n      <td>110</td>\n      <td>0</td>\n      <td>2020-01-06</td>\n      <td>973</td>\n      <td>5</td>\n      <td>5</td>\n    </tr>\n    <tr>\n      <th>12</th>\n      <td>3</td>\n      <td>12</td>\n      <td>4</td>\n      <td>20</td>\n      <td>95</td>\n      <td>0</td>\n      <td>2020-01-07</td>\n      <td>1010</td>\n      <td>2</td>\n      <td>2</td>\n    </tr>\n    <tr>\n      <th>13</th>\n      <td>4</td>\n      <td>20</td>\n      <td>3</td>\n      <td>13</td>\n      <td>201</td>\n      <td>0</td>\n      <td>2020-01-08</td>\n      <td>1612</td>\n      <td>1</td>\n      <td>1</td>\n    </tr>\n    <tr>\n      <th>14</th>\n      <td>7</td>\n      <td>9</td>\n      <td>2</td>\n      <td>17</td>\n      <td>70</td>\n      <td>0</td>\n      <td>2020-01-09</td>\n      <td>1003</td>\n      <td>8</td>\n      <td>8</td>\n    </tr>\n    <tr>\n      <th>15</th>\n      <td>8</td>\n      <td>13</td>\n      <td>1</td>\n      <td>25</td>\n      <td>48</td>\n      <td>0</td>\n      <td>2020-01-10</td>\n      <td>982</td>\n      <td>2</td>\n      <td>2</td>\n    </tr>\n    <tr>\n      <th>16</th>\n      <td>8</td>\n      <td>4</td>\n      <td>2</td>\n      <td>10</td>\n      <td>31</td>\n      <td>0</td>\n      <td>2020-01-11</td>\n      <td>1031</td>\n      <td>3</td>\n      <td>3</td>\n    </tr>\n    <tr>\n      <th>17</th>\n      <td>7</td>\n      <td>7</td>\n      <td>0</td>\n      <td>8</td>\n      <td>30</td>\n      <td>0</td>\n      <td>2020-01-12</td>\n      <td>870</td>\n      <td>3</td>\n      <td>3</td>\n    </tr>\n    <tr>\n      <th>18</th>\n      <td>12</td>\n      <td>13</td>\n      <td>0</td>\n      <td>3</td>\n      <td>39</td>\n      <td>0</td>\n      <td>2020-01-13</td>\n      <td>946</td>\n      <td>5</td>\n      <td>5</td>\n    </tr>\n    <tr>\n      <th>19</th>\n      <td>9</td>\n      <td>8</td>\n      <td>3</td>\n      <td>16</td>\n      <td>44</td>\n      <td>0</td>\n      <td>2020-01-14</td>\n      <td>999</td>\n      <td>10</td>\n      <td>10</td>\n    </tr>\n  </tbody>\n</table>\n</div>"
     },
     "metadata": {},
     "execution_count": 41
    }
   ],
   "source": [
    "dfFinalMerged.head(20)"
   ]
  },
  {
   "cell_type": "code",
   "execution_count": null,
   "metadata": {},
   "outputs": [],
   "source": []
  }
 ]
}