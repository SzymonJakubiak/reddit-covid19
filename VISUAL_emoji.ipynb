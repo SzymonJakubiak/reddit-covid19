{
  "nbformat": 4,
  "nbformat_minor": 0,
  "metadata": {
    "colab": {
      "name": "emoji_comparison.ipynb",
      "provenance": []
    },
    "kernelspec": {
      "name": "python3",
      "display_name": "Python 3"
    }
  },
  "cells": [
    {
      "cell_type": "code",
      "metadata": {
        "id": "RsXP-rJDow_h",
        "colab_type": "code",
        "colab": {
          "base_uri": "https://localhost:8080/",
          "height": 124
        },
        "outputId": "c596b4ab-d539-4db3-8527-b8200c8a0d6b"
      },
      "source": [
        "from google.colab import drive\n",
        "drive.mount('/content/gdrive')"
      ],
      "execution_count": 1,
      "outputs": [
        {
          "output_type": "stream",
          "text": [
            "Go to this URL in a browser: https://accounts.google.com/o/oauth2/auth?client_id=947318989803-6bn6qk8qdgf4n4g3pfee6491hc0brc4i.apps.googleusercontent.com&redirect_uri=urn%3aietf%3awg%3aoauth%3a2.0%3aoob&response_type=code&scope=email%20https%3a%2f%2fwww.googleapis.com%2fauth%2fdocs.test%20https%3a%2f%2fwww.googleapis.com%2fauth%2fdrive%20https%3a%2f%2fwww.googleapis.com%2fauth%2fdrive.photos.readonly%20https%3a%2f%2fwww.googleapis.com%2fauth%2fpeopleapi.readonly\n",
            "\n",
            "Enter your authorization code:\n",
            "··········\n",
            "Mounted at /content/gdrive\n"
          ],
          "name": "stdout"
        }
      ]
    },
    {
      "cell_type": "code",
      "metadata": {
        "id": "5v5dn-4JoV0Q",
        "colab_type": "code",
        "colab": {}
      },
      "source": [
        "import pandas as pd\n",
        "import numpy as np\n",
        "import matplotlib.pyplot as plt"
      ],
      "execution_count": 2,
      "outputs": []
    },
    {
      "cell_type": "code",
      "metadata": {
        "id": "4EmCICdgo5VU",
        "colab_type": "code",
        "colab": {
          "base_uri": "https://localhost:8080/",
          "height": 206
        },
        "outputId": "68895afb-c453-498a-a50e-7517e37d871f"
      },
      "source": [
        "df_nonCovid = pd.read_csv('/content/gdrive/My Drive/Colab Notebooks/KoronaScience/data/emoji_nonCovid_full_summary.csv', index_col=0)\n",
        "df_nonCovid.head()"
      ],
      "execution_count": 3,
      "outputs": [
        {
          "output_type": "execute_result",
          "data": {
            "text/html": [
              "<div>\n",
              "<style scoped>\n",
              "    .dataframe tbody tr th:only-of-type {\n",
              "        vertical-align: middle;\n",
              "    }\n",
              "\n",
              "    .dataframe tbody tr th {\n",
              "        vertical-align: top;\n",
              "    }\n",
              "\n",
              "    .dataframe thead th {\n",
              "        text-align: right;\n",
              "    }\n",
              "</style>\n",
              "<table border=\"1\" class=\"dataframe\">\n",
              "  <thead>\n",
              "    <tr style=\"text-align: right;\">\n",
              "      <th></th>\n",
              "      <th>Count_top5</th>\n",
              "      <th>Count_top3</th>\n",
              "      <th>Count_top2</th>\n",
              "      <th>Count_top1</th>\n",
              "    </tr>\n",
              "  </thead>\n",
              "  <tbody>\n",
              "    <tr>\n",
              "      <th>👍</th>\n",
              "      <td>84180</td>\n",
              "      <td>75470</td>\n",
              "      <td>64512</td>\n",
              "      <td>49701</td>\n",
              "    </tr>\n",
              "    <tr>\n",
              "      <th>😡</th>\n",
              "      <td>45023</td>\n",
              "      <td>40517</td>\n",
              "      <td>35235</td>\n",
              "      <td>28731</td>\n",
              "    </tr>\n",
              "    <tr>\n",
              "      <th>😳</th>\n",
              "      <td>43797</td>\n",
              "      <td>36777</td>\n",
              "      <td>29286</td>\n",
              "      <td>20558</td>\n",
              "    </tr>\n",
              "    <tr>\n",
              "      <th>💪</th>\n",
              "      <td>31153</td>\n",
              "      <td>26771</td>\n",
              "      <td>21618</td>\n",
              "      <td>15517</td>\n",
              "    </tr>\n",
              "    <tr>\n",
              "      <th>😂</th>\n",
              "      <td>32181</td>\n",
              "      <td>26893</td>\n",
              "      <td>21278</td>\n",
              "      <td>15317</td>\n",
              "    </tr>\n",
              "  </tbody>\n",
              "</table>\n",
              "</div>"
            ],
            "text/plain": [
              "   Count_top5  Count_top3  Count_top2  Count_top1\n",
              "👍       84180       75470       64512       49701\n",
              "😡       45023       40517       35235       28731\n",
              "😳       43797       36777       29286       20558\n",
              "💪       31153       26771       21618       15517\n",
              "😂       32181       26893       21278       15317"
            ]
          },
          "metadata": {
            "tags": []
          },
          "execution_count": 3
        }
      ]
    },
    {
      "cell_type": "code",
      "metadata": {
        "id": "5zzJiWPjpuLT",
        "colab_type": "code",
        "colab": {
          "base_uri": "https://localhost:8080/",
          "height": 206
        },
        "outputId": "b1349bc0-b572-49f9-d2d8-b144c5eb2626"
      },
      "source": [
        "df_Covid = pd.read_csv('/content/gdrive/My Drive/Colab Notebooks/KoronaScience/data/emoji_covid_full_summary.csv', index_col=0)\n",
        "df_Covid.head()"
      ],
      "execution_count": 4,
      "outputs": [
        {
          "output_type": "execute_result",
          "data": {
            "text/html": [
              "<div>\n",
              "<style scoped>\n",
              "    .dataframe tbody tr th:only-of-type {\n",
              "        vertical-align: middle;\n",
              "    }\n",
              "\n",
              "    .dataframe tbody tr th {\n",
              "        vertical-align: top;\n",
              "    }\n",
              "\n",
              "    .dataframe thead th {\n",
              "        text-align: right;\n",
              "    }\n",
              "</style>\n",
              "<table border=\"1\" class=\"dataframe\">\n",
              "  <thead>\n",
              "    <tr style=\"text-align: right;\">\n",
              "      <th></th>\n",
              "      <th>Count_top5</th>\n",
              "      <th>Count_top3</th>\n",
              "      <th>Count_top2</th>\n",
              "      <th>Count_top1</th>\n",
              "    </tr>\n",
              "  </thead>\n",
              "  <tbody>\n",
              "    <tr>\n",
              "      <th>👍</th>\n",
              "      <td>29625</td>\n",
              "      <td>27034</td>\n",
              "      <td>23554</td>\n",
              "      <td>18786</td>\n",
              "    </tr>\n",
              "    <tr>\n",
              "      <th>😷</th>\n",
              "      <td>13821</td>\n",
              "      <td>12934</td>\n",
              "      <td>11904</td>\n",
              "      <td>10409</td>\n",
              "    </tr>\n",
              "    <tr>\n",
              "      <th>😡</th>\n",
              "      <td>15451</td>\n",
              "      <td>13916</td>\n",
              "      <td>12075</td>\n",
              "      <td>9713</td>\n",
              "    </tr>\n",
              "    <tr>\n",
              "      <th>💪</th>\n",
              "      <td>12777</td>\n",
              "      <td>11197</td>\n",
              "      <td>9268</td>\n",
              "      <td>6637</td>\n",
              "    </tr>\n",
              "    <tr>\n",
              "      <th>😢</th>\n",
              "      <td>11185</td>\n",
              "      <td>9524</td>\n",
              "      <td>7697</td>\n",
              "      <td>5737</td>\n",
              "    </tr>\n",
              "  </tbody>\n",
              "</table>\n",
              "</div>"
            ],
            "text/plain": [
              "   Count_top5  Count_top3  Count_top2  Count_top1\n",
              "👍       29625       27034       23554       18786\n",
              "😷       13821       12934       11904       10409\n",
              "😡       15451       13916       12075        9713\n",
              "💪       12777       11197        9268        6637\n",
              "😢       11185        9524        7697        5737"
            ]
          },
          "metadata": {
            "tags": []
          },
          "execution_count": 4
        }
      ]
    },
    {
      "cell_type": "code",
      "metadata": {
        "id": "Kbr8GBncqW40",
        "colab_type": "code",
        "colab": {
          "base_uri": "https://localhost:8080/",
          "height": 206
        },
        "outputId": "835a1843-7637-4bbd-ceca-a24b495c4e6c"
      },
      "source": [
        "df = pd.concat([df_nonCovid[\"Count_top1\"], df_Covid[\"Count_top1\"]], axis=1)\n",
        "df.columns = [\"typical\", \"covid\"]\n",
        "df.drop(index='👍', inplace=True)\n",
        "df.fillna(0)\n",
        "df.head()"
      ],
      "execution_count": 5,
      "outputs": [
        {
          "output_type": "execute_result",
          "data": {
            "text/html": [
              "<div>\n",
              "<style scoped>\n",
              "    .dataframe tbody tr th:only-of-type {\n",
              "        vertical-align: middle;\n",
              "    }\n",
              "\n",
              "    .dataframe tbody tr th {\n",
              "        vertical-align: top;\n",
              "    }\n",
              "\n",
              "    .dataframe thead th {\n",
              "        text-align: right;\n",
              "    }\n",
              "</style>\n",
              "<table border=\"1\" class=\"dataframe\">\n",
              "  <thead>\n",
              "    <tr style=\"text-align: right;\">\n",
              "      <th></th>\n",
              "      <th>typical</th>\n",
              "      <th>covid</th>\n",
              "    </tr>\n",
              "  </thead>\n",
              "  <tbody>\n",
              "    <tr>\n",
              "      <th>😡</th>\n",
              "      <td>28731</td>\n",
              "      <td>9713.0</td>\n",
              "    </tr>\n",
              "    <tr>\n",
              "      <th>😳</th>\n",
              "      <td>20558</td>\n",
              "      <td>4681.0</td>\n",
              "    </tr>\n",
              "    <tr>\n",
              "      <th>💪</th>\n",
              "      <td>15517</td>\n",
              "      <td>6637.0</td>\n",
              "    </tr>\n",
              "    <tr>\n",
              "      <th>😂</th>\n",
              "      <td>15317</td>\n",
              "      <td>2639.0</td>\n",
              "    </tr>\n",
              "    <tr>\n",
              "      <th>😠</th>\n",
              "      <td>15171</td>\n",
              "      <td>4669.0</td>\n",
              "    </tr>\n",
              "  </tbody>\n",
              "</table>\n",
              "</div>"
            ],
            "text/plain": [
              "   typical   covid\n",
              "😡    28731  9713.0\n",
              "😳    20558  4681.0\n",
              "💪    15517  6637.0\n",
              "😂    15317  2639.0\n",
              "😠    15171  4669.0"
            ]
          },
          "metadata": {
            "tags": []
          },
          "execution_count": 5
        }
      ]
    },
    {
      "cell_type": "code",
      "metadata": {
        "id": "we55jSd00s9V",
        "colab_type": "code",
        "colab": {
          "base_uri": "https://localhost:8080/",
          "height": 69
        },
        "outputId": "f52e1141-ea67-4808-fb28-3928522c827c"
      },
      "source": [
        "df.sum()"
      ],
      "execution_count": 6,
      "outputs": [
        {
          "output_type": "execute_result",
          "data": {
            "text/plain": [
              "typical    296111.0\n",
              "covid       91086.0\n",
              "dtype: float64"
            ]
          },
          "metadata": {
            "tags": []
          },
          "execution_count": 6
        }
      ]
    },
    {
      "cell_type": "code",
      "metadata": {
        "id": "ySKjk70doifR",
        "colab_type": "code",
        "colab": {
          "base_uri": "https://localhost:8080/",
          "height": 206
        },
        "outputId": "10c78b0b-c641-4c81-c5ba-dee207a7f5fa"
      },
      "source": [
        "# normalisation\n",
        "df = df / df.sum()\n",
        "df.fillna(0)\n",
        "df.head()"
      ],
      "execution_count": 7,
      "outputs": [
        {
          "output_type": "execute_result",
          "data": {
            "text/html": [
              "<div>\n",
              "<style scoped>\n",
              "    .dataframe tbody tr th:only-of-type {\n",
              "        vertical-align: middle;\n",
              "    }\n",
              "\n",
              "    .dataframe tbody tr th {\n",
              "        vertical-align: top;\n",
              "    }\n",
              "\n",
              "    .dataframe thead th {\n",
              "        text-align: right;\n",
              "    }\n",
              "</style>\n",
              "<table border=\"1\" class=\"dataframe\">\n",
              "  <thead>\n",
              "    <tr style=\"text-align: right;\">\n",
              "      <th></th>\n",
              "      <th>typical</th>\n",
              "      <th>covid</th>\n",
              "    </tr>\n",
              "  </thead>\n",
              "  <tbody>\n",
              "    <tr>\n",
              "      <th>😡</th>\n",
              "      <td>0.097028</td>\n",
              "      <td>0.106635</td>\n",
              "    </tr>\n",
              "    <tr>\n",
              "      <th>😳</th>\n",
              "      <td>0.069427</td>\n",
              "      <td>0.051391</td>\n",
              "    </tr>\n",
              "    <tr>\n",
              "      <th>💪</th>\n",
              "      <td>0.052403</td>\n",
              "      <td>0.072865</td>\n",
              "    </tr>\n",
              "    <tr>\n",
              "      <th>😂</th>\n",
              "      <td>0.051727</td>\n",
              "      <td>0.028973</td>\n",
              "    </tr>\n",
              "    <tr>\n",
              "      <th>😠</th>\n",
              "      <td>0.051234</td>\n",
              "      <td>0.051259</td>\n",
              "    </tr>\n",
              "  </tbody>\n",
              "</table>\n",
              "</div>"
            ],
            "text/plain": [
              "    typical     covid\n",
              "😡  0.097028  0.106635\n",
              "😳  0.069427  0.051391\n",
              "💪  0.052403  0.072865\n",
              "😂  0.051727  0.028973\n",
              "😠  0.051234  0.051259"
            ]
          },
          "metadata": {
            "tags": []
          },
          "execution_count": 7
        }
      ]
    },
    {
      "cell_type": "code",
      "metadata": {
        "id": "qf5CcWr820yq",
        "colab_type": "code",
        "colab": {}
      },
      "source": [
        "# drop insignificant emoji from covid\n",
        "df.loc[(df[\"covid\"] < 0.01) & (df[\"typical\"] < 0.01)] = np.nan\n",
        "df.dropna(inplace=True)"
      ],
      "execution_count": 8,
      "outputs": []
    },
    {
      "cell_type": "code",
      "metadata": {
        "id": "R4XlMWltsCnO",
        "colab_type": "code",
        "colab": {
          "base_uri": "https://localhost:8080/",
          "height": 206
        },
        "outputId": "0be169a9-fdfd-4b9f-b394-ef1e40b38747"
      },
      "source": [
        "df[\"ratio\"] = df.covid / df.typical\n",
        "df.head()"
      ],
      "execution_count": 9,
      "outputs": [
        {
          "output_type": "execute_result",
          "data": {
            "text/html": [
              "<div>\n",
              "<style scoped>\n",
              "    .dataframe tbody tr th:only-of-type {\n",
              "        vertical-align: middle;\n",
              "    }\n",
              "\n",
              "    .dataframe tbody tr th {\n",
              "        vertical-align: top;\n",
              "    }\n",
              "\n",
              "    .dataframe thead th {\n",
              "        text-align: right;\n",
              "    }\n",
              "</style>\n",
              "<table border=\"1\" class=\"dataframe\">\n",
              "  <thead>\n",
              "    <tr style=\"text-align: right;\">\n",
              "      <th></th>\n",
              "      <th>typical</th>\n",
              "      <th>covid</th>\n",
              "      <th>ratio</th>\n",
              "    </tr>\n",
              "  </thead>\n",
              "  <tbody>\n",
              "    <tr>\n",
              "      <th>😡</th>\n",
              "      <td>0.097028</td>\n",
              "      <td>0.106635</td>\n",
              "      <td>1.099020</td>\n",
              "    </tr>\n",
              "    <tr>\n",
              "      <th>😳</th>\n",
              "      <td>0.069427</td>\n",
              "      <td>0.051391</td>\n",
              "      <td>0.740220</td>\n",
              "    </tr>\n",
              "    <tr>\n",
              "      <th>💪</th>\n",
              "      <td>0.052403</td>\n",
              "      <td>0.072865</td>\n",
              "      <td>1.390487</td>\n",
              "    </tr>\n",
              "    <tr>\n",
              "      <th>😂</th>\n",
              "      <td>0.051727</td>\n",
              "      <td>0.028973</td>\n",
              "      <td>0.560104</td>\n",
              "    </tr>\n",
              "    <tr>\n",
              "      <th>😠</th>\n",
              "      <td>0.051234</td>\n",
              "      <td>0.051259</td>\n",
              "      <td>1.000490</td>\n",
              "    </tr>\n",
              "  </tbody>\n",
              "</table>\n",
              "</div>"
            ],
            "text/plain": [
              "    typical     covid     ratio\n",
              "😡  0.097028  0.106635  1.099020\n",
              "😳  0.069427  0.051391  0.740220\n",
              "💪  0.052403  0.072865  1.390487\n",
              "😂  0.051727  0.028973  0.560104\n",
              "😠  0.051234  0.051259  1.000490"
            ]
          },
          "metadata": {
            "tags": []
          },
          "execution_count": 9
        }
      ]
    },
    {
      "cell_type": "code",
      "metadata": {
        "id": "puPkdjTftaS3",
        "colab_type": "code",
        "colab": {
          "base_uri": "https://localhost:8080/",
          "height": 86
        },
        "outputId": "8ca9abb1-c9ff-463f-900e-ae4d0c820691"
      },
      "source": [
        "df.loc[\"😷\"]"
      ],
      "execution_count": 10,
      "outputs": [
        {
          "output_type": "execute_result",
          "data": {
            "text/plain": [
              "typical    0.036983\n",
              "covid      0.114277\n",
              "ratio      3.089998\n",
              "Name: 😷, dtype: float64"
            ]
          },
          "metadata": {
            "tags": []
          },
          "execution_count": 10
        }
      ]
    },
    {
      "cell_type": "code",
      "metadata": {
        "id": "FGWT94zrsz1f",
        "colab_type": "code",
        "colab": {
          "base_uri": "https://localhost:8080/",
          "height": 555
        },
        "outputId": "1feb7a31-1c0a-4852-8621-e9a172a4b5ef"
      },
      "source": [
        "df[\"ratio\"].sort_values()"
      ],
      "execution_count": 15,
      "outputs": [
        {
          "output_type": "execute_result",
          "data": {
            "text/plain": [
              "👌    0.433804\n",
              "😍    0.453801\n",
              "🎵    0.480758\n",
              "😂    0.560104\n",
              "🎶    0.655298\n",
              "🙌    0.664620\n",
              "😎    0.671593\n",
              "😐    0.672882\n",
              "🔫    0.704826\n",
              "😳    0.740220\n",
              "👀    0.752554\n",
              "😑    0.778686\n",
              "💓    0.783588\n",
              "😕    0.810226\n",
              "😈    0.878173\n",
              "💀    0.929527\n",
              "👏    0.945297\n",
              "✨    0.984269\n",
              "😠    1.000490\n",
              "😄    1.024186\n",
              "😅    1.047548\n",
              "😡    1.099020\n",
              "😬    1.164105\n",
              "😢    1.238817\n",
              "👊    1.247132\n",
              "💔    1.278350\n",
              "🙏    1.354935\n",
              "💪    1.390487\n",
              "😖    2.792834\n",
              "😷    3.089998\n",
              "Name: ratio, dtype: float64"
            ]
          },
          "metadata": {
            "tags": []
          },
          "execution_count": 15
        }
      ]
    },
    {
      "cell_type": "code",
      "metadata": {
        "id": "fqi4SI3A30Xw",
        "colab_type": "code",
        "colab": {}
      },
      "source": [
        "df.to_csv('/content/gdrive/My Drive/Colab Notebooks/KoronaScience/data/emoji_comparison.csv')"
      ],
      "execution_count": 16,
      "outputs": []
    },
    {
      "cell_type": "markdown",
      "metadata": {
        "id": "UbMbW7YSxhJu",
        "colab_type": "text"
      },
      "source": [
        "# IMPORTANT: Matplotlib does not support emoji characters. Further visualisation was performed in LibreOffice Calc."
      ]
    },
    {
      "cell_type": "code",
      "metadata": {
        "id": "R0eJme0ax5Pf",
        "colab_type": "code",
        "colab": {}
      },
      "source": [
        ""
      ],
      "execution_count": null,
      "outputs": []
    }
  ]
}