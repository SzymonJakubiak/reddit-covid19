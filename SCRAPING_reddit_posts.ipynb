{
 "nbformat": 4,
 "nbformat_minor": 2,
 "metadata": {
  "language_info": {
   "name": "python",
   "codemirror_mode": {
    "name": "ipython",
    "version": 3
   },
   "version": "3.7.7-final"
  },
  "orig_nbformat": 2,
  "file_extension": ".py",
  "mimetype": "text/x-python",
  "name": "python",
  "npconvert_exporter": "python",
  "pygments_lexer": "ipython3",
  "version": 3,
  "kernelspec": {
   "name": "python3",
   "display_name": "Python 3"
  }
 },
 "cells": [
  {
   "cell_type": "code",
   "execution_count": 1,
   "metadata": {},
   "outputs": [],
   "source": [
    "import pandas as pd\n",
    "import numpy as np\n",
    "import requests\n",
    "import json\n",
    "import csv\n",
    "import time\n",
    "from datetime import datetime, timedelta"
   ]
  },
  {
   "cell_type": "markdown",
   "metadata": {},
   "source": [
    "# 1. Functions declaration\n",
    "\n",
    "It contains functions responsible for data scraping with Pushshift API"
   ]
  },
  {
   "cell_type": "code",
   "execution_count": 2,
   "metadata": {},
   "outputs": [],
   "source": [
    "def calcTimeStamps(startDaysAgo: int, endDaysAgo: int) -> '[startStamp, endStamp]':\n",
    "    \"\"\"Returns timestamps for set days from the past\"\"\"\n",
    "    now = datetime.now()\n",
    "\n",
    "    # Datetimes calculation\n",
    "    dateStart = now - timedelta(days=startDaysAgo)\n",
    "    dateEnd = now - timedelta(days=endDaysAgo)\n",
    "\n",
    "    # Datetimes to timestamps conversion\n",
    "    stampStart = int(datetime.timestamp(dateStart))\n",
    "    stampEnd = int(datetime.timestamp(dateEnd))\n",
    "\n",
    "    return [stampStart, stampEnd]"
   ]
  },
  {
   "cell_type": "code",
   "execution_count": 3,
   "metadata": {},
   "outputs": [],
   "source": [
    "def getPushShiftData(afterDateStamp: \"Start timestamp\", beforeDateStamp: \"End timestamp\", subredditName: \"Subreddit's name\"):\n",
    "    \"\"\"Returns a dictionary based on JSON object received from PushShift's API\"\"\"\n",
    "    # API's querries are being made through URL\n",
    "    url = 'https://api.pushshift.io/reddit/search/submission/?' + 'size=500' + '&after=' + str(afterDateStamp) + '&before=' + \\\n",
    "            str(beforeDateStamp) + '&subreddit=' + str(subredditName)\n",
    "    # Get a request from the url\n",
    "    request = requests.get(url)\n",
    "    # Load and convert: JSON -> dictionary\n",
    "    data = json.loads(request.text)\n",
    "\n",
    "    return data['data']"
   ]
  },
  {
   "cell_type": "code",
   "execution_count": 4,
   "metadata": {},
   "outputs": [],
   "source": [
    "def collectDataFromSubmission(submissionsList: 'list of json-origin dictionaries', yummyDataDictionary: 'a dictionary the data is being appended to'):\n",
    "    \"\"\"Gets specific data from every submission and appends it to the yummyDataDictionary\"\"\"\n",
    "    for submission in submissionsList:\n",
    "        title = submission['title']\n",
    "        url = submission['url']\n",
    "        try:\n",
    "            flair = submission['link_flair_text']\n",
    "        except KeyError:\n",
    "            flair = np.nan\n",
    "        author = submission['author']\n",
    "        subId = submission['id']\n",
    "        score = submission['score']\n",
    "        created = datetime.fromtimestamp(submission['created_utc'])\n",
    "        numComments = submission['num_comments']\n",
    "        permalink = submission['permalink']\n",
    "\n",
    "        # Structuring the data\n",
    "        dataChunk = (subId, title, url, author, score, created, numComments, permalink, flair)\n",
    "\n",
    "        yummyDataDictionary[subId] = dataChunk"
   ]
  },
  {
   "cell_type": "code",
   "execution_count": 9,
   "metadata": {},
   "outputs": [],
   "source": [
    "def forceGetData(afterDateStamp: \"Start timestamp\", beforeDateStamp: \"End timestamp\", subredditName: \"Subreddit's name\"):\n",
    "    \"\"\"Forces Pushshift API to return more submissions (over 500) by pushing multiple querries. Those have to be time delayed, so that requests_limit per minute is not exceeded\"\"\"\n",
    "    # Stores all the colleced entries\n",
    "    finalDictionary = {}\n",
    "\n",
    "    # Get the first chunk of data\n",
    "    dataChunk = getPushShiftData(afterDateStamp, beforeDateStamp, subredditName)\n",
    "\n",
    "    \n",
    "    # While data is still being received\n",
    "    while len(dataChunk) > 0:\n",
    "        # Collect interesting fields\n",
    "        collectDataFromSubmission(dataChunk, finalDictionary)\n",
    "\n",
    "        # Narrow the time frame\n",
    "        newAfterStamp = dataChunk[-1]['created_utc']\n",
    "        # Querry again\n",
    "        dataChunk = getPushShiftData(newAfterStamp, beforeDateStamp, subredditName)\n",
    "\n",
    "        # Periodic output for users comfort\n",
    "        date = datetime.fromtimestamp(newAfterStamp)\n",
    "        print(f\"Current date: {date}\")\n",
    "        # Cannot exceed 120 querries per minute\n",
    "        # No problem, my internet connection is too slow\n",
    "        time.sleep(0.05)\n",
    "\n",
    "    return finalDictionary"
   ]
  },
  {
   "cell_type": "code",
   "execution_count": 10,
   "metadata": {},
   "outputs": [],
   "source": [
    "def writeDataToCSV(dataDictionary: 'dict with all the yummy data', fileName='default.csv'):\n",
    "    \"\"\"Writes the collected data to a .csv file\"\"\"\n",
    "    with open(fileName, 'w', newline='', encoding='utf-8') as file:\n",
    "        csvWriter = csv.writer(file, delimiter=',')\n",
    "\n",
    "        # Adding a header\n",
    "        headers = [\"Post ID\", \"Title\", \"URL\", \"Author\", \"Score\", \"Publish Date\", \"Total number of comments\", \"Permalink\", \"Flair\"]\n",
    "        csvWriter.writerow(headers)\n",
    "\n",
    "        # Writing the data\n",
    "        for sub in dataDictionary:\n",
    "            csvWriter.writerow(dataDictionary[sub])"
   ]
  },
  {
   "cell_type": "markdown",
   "metadata": {},
   "source": [
    "# 2. Main code"
   ]
  },
  {
   "cell_type": "code",
   "execution_count": 11,
   "metadata": {},
   "outputs": [],
   "source": [
    "# Calc timestamps for begin & end days\n",
    "datesList  = calcTimeStamps(1,240)"
   ]
  },
  {
   "cell_type": "code",
   "execution_count": 12,
   "metadata": {
    "tags": [
     "outputPrepend"
    ]
   },
   "outputs": [
    {
     "output_type": "stream",
     "name": "stdout",
     "text": "8:25:28\nCurrent date: 2020-06-06 11:34:22\nCurrent date: 2020-06-06 13:40:51\nCurrent date: 2020-06-06 15:21:17\nCurrent date: 2020-06-06 17:26:59\nCurrent date: 2020-06-06 19:23:27\nCurrent date: 2020-06-06 21:50:41\nCurrent date: 2020-06-07 00:43:36\nCurrent date: 2020-06-07 03:38:31\nCurrent date: 2020-06-07 06:11:31\nCurrent date: 2020-06-07 07:28:29\nCurrent date: 2020-06-07 09:53:45\nCurrent date: 2020-06-07 13:17:41\nCurrent date: 2020-06-07 15:40:47\nCurrent date: 2020-06-07 18:01:44\nCurrent date: 2020-06-07 20:12:38\nCurrent date: 2020-06-07 22:30:52\nCurrent date: 2020-06-08 00:45:28\nCurrent date: 2020-06-08 03:16:35\nCurrent date: 2020-06-08 05:00:37\nCurrent date: 2020-06-08 06:11:37\nCurrent date: 2020-06-08 07:31:15\nCurrent date: 2020-06-08 08:57:14\nCurrent date: 2020-06-08 10:41:40\nCurrent date: 2020-06-08 12:09:14\nCurrent date: 2020-06-08 13:43:04\nCurrent date: 2020-06-08 15:21:00\nCurrent date: 2020-06-08 16:57:01\nCurrent date: 2020-06-08 18:17:26\nCurrent date: 2020-06-08 19:20:11\nCurrent date: 2020-06-08 20:32:27\nCurrent date: 2020-06-08 22:17:23\nCurrent date: 2020-06-09 00:16:38\nCurrent date: 2020-06-09 03:19:47\nCurrent date: 2020-06-09 05:00:15\nCurrent date: 2020-06-09 06:43:40\nCurrent date: 2020-06-09 08:38:46\nCurrent date: 2020-06-09 10:50:54\nCurrent date: 2020-06-09 12:41:56\nCurrent date: 2020-06-09 14:30:51\nCurrent date: 2020-06-09 15:44:38\nCurrent date: 2020-06-09 17:20:40\nCurrent date: 2020-06-09 19:07:05\nCurrent date: 2020-06-09 20:37:00\nCurrent date: 2020-06-09 22:46:58\nCurrent date: 2020-06-10 01:28:23\nCurrent date: 2020-06-10 03:38:31\nCurrent date: 2020-06-10 05:25:02\nCurrent date: 2020-06-10 07:03:30\nCurrent date: 2020-06-10 09:05:34\nCurrent date: 2020-06-10 10:46:34\nCurrent date: 2020-06-10 12:37:54\nCurrent date: 2020-06-10 14:16:15\nCurrent date: 2020-06-10 15:45:43\nCurrent date: 2020-06-10 17:21:19\nCurrent date: 2020-06-10 19:19:56\nCurrent date: 2020-06-10 21:17:34\nCurrent date: 2020-06-11 00:10:47\nCurrent date: 2020-06-11 03:05:53\nCurrent date: 2020-06-11 05:22:53\nCurrent date: 2020-06-11 07:13:36\nCurrent date: 2020-06-11 10:14:11\nCurrent date: 2020-06-11 12:59:16\nCurrent date: 2020-06-11 14:32:34\nCurrent date: 2020-06-11 16:17:10\nCurrent date: 2020-06-11 17:54:53\nCurrent date: 2020-06-11 19:20:31\nCurrent date: 2020-06-11 21:03:08\nCurrent date: 2020-06-11 22:31:14\nCurrent date: 2020-06-12 00:26:22\nCurrent date: 2020-06-12 03:03:07\nCurrent date: 2020-06-12 05:00:26\nCurrent date: 2020-06-12 07:13:36\nCurrent date: 2020-06-12 09:47:38\nCurrent date: 2020-06-12 11:46:59\nCurrent date: 2020-06-12 13:34:28\nCurrent date: 2020-06-12 14:52:46\nCurrent date: 2020-06-12 16:17:24\nCurrent date: 2020-06-12 17:25:21\nCurrent date: 2020-06-12 18:43:37\nCurrent date: 2020-06-12 20:32:21\nCurrent date: 2020-06-12 22:03:48\nCurrent date: 2020-06-13 01:07:05\nCurrent date: 2020-06-13 04:13:32\nCurrent date: 2020-06-13 06:49:02\nCurrent date: 2020-06-13 09:09:21\nCurrent date: 2020-06-13 12:03:27\nCurrent date: 2020-06-13 14:25:21\nCurrent date: 2020-06-13 16:25:11\nCurrent date: 2020-06-13 18:24:52\nCurrent date: 2020-06-13 20:44:49\nCurrent date: 2020-06-13 23:28:35\nCurrent date: 2020-06-14 02:54:22\nCurrent date: 2020-06-14 05:03:38\nCurrent date: 2020-06-14 06:46:48\nCurrent date: 2020-06-14 08:48:50\nCurrent date: 2020-06-14 11:46:18\nCurrent date: 2020-06-14 14:13:11\nCurrent date: 2020-06-14 16:36:38\nCurrent date: 2020-06-14 18:43:34\nCurrent date: 2020-06-14 20:34:26\nCurrent date: 2020-06-14 22:49:37\nCurrent date: 2020-06-15 01:05:27\nCurrent date: 2020-06-15 04:07:34\nCurrent date: 2020-06-15 05:57:02\nCurrent date: 2020-06-15 07:48:08\nCurrent date: 2020-06-15 10:44:37\nCurrent date: 2020-06-15 12:48:09\nCurrent date: 2020-06-15 14:16:35\nCurrent date: 2020-06-15 15:55:56\nCurrent date: 2020-06-15 17:35:52\nCurrent date: 2020-06-15 18:49:24\nCurrent date: 2020-06-15 20:19:44\nCurrent date: 2020-06-15 22:10:03\nCurrent date: 2020-06-16 00:54:40\nCurrent date: 2020-06-16 03:09:11\nCurrent date: 2020-06-16 05:00:24\nCurrent date: 2020-06-16 06:57:14\nCurrent date: 2020-06-16 08:48:49\nCurrent date: 2020-06-16 09:41:23\nCurrent date: 2020-06-16 10:42:35\nCurrent date: 2020-06-16 12:06:23\nCurrent date: 2020-06-16 13:24:27\nCurrent date: 2020-06-16 14:32:32\nCurrent date: 2020-06-16 15:49:40\nCurrent date: 2020-06-16 17:17:04\nCurrent date: 2020-06-16 18:35:48\nCurrent date: 2020-06-16 19:53:51\nCurrent date: 2020-06-16 21:12:19\nCurrent date: 2020-06-16 22:44:09\nCurrent date: 2020-06-17 01:15:47\nCurrent date: 2020-06-17 03:38:34\nCurrent date: 2020-06-17 05:03:22\nCurrent date: 2020-06-17 07:01:03\nCurrent date: 2020-06-17 09:23:05\nCurrent date: 2020-06-17 11:33:09\nCurrent date: 2020-06-17 13:18:16\nCurrent date: 2020-06-17 14:36:00\nCurrent date: 2020-06-17 15:53:26\nCurrent date: 2020-06-17 16:53:29\nCurrent date: 2020-06-17 18:14:17\nCurrent date: 2020-06-17 19:19:35\nCurrent date: 2020-06-17 20:45:32\nCurrent date: 2020-06-17 22:21:03\nCurrent date: 2020-06-18 00:33:22\nCurrent date: 2020-06-18 02:47:32\nCurrent date: 2020-06-18 04:17:29\nCurrent date: 2020-06-18 06:11:39\nCurrent date: 2020-06-18 08:04:23\nCurrent date: 2020-06-18 10:06:44\nCurrent date: 2020-06-18 12:02:19\nCurrent date: 2020-06-18 12:51:42\nCurrent date: 2020-06-18 14:06:24\nCurrent date: 2020-06-18 15:20:20\nCurrent date: 2020-06-18 16:21:23\nCurrent date: 2020-06-18 17:35:43\nCurrent date: 2020-06-18 18:49:02\nCurrent date: 2020-06-18 20:07:40\nCurrent date: 2020-06-18 22:00:53\nCurrent date: 2020-06-19 00:33:02\nCurrent date: 2020-06-19 02:17:40\nCurrent date: 2020-06-19 03:43:39\nCurrent date: 2020-06-19 05:53:15\nCurrent date: 2020-06-19 07:13:34\nCurrent date: 2020-06-19 09:57:00\nCurrent date: 2020-06-19 12:04:51\nCurrent date: 2020-06-19 13:54:33\nCurrent date: 2020-06-19 15:10:28\nCurrent date: 2020-06-19 16:29:28\nCurrent date: 2020-06-19 17:34:41\nCurrent date: 2020-06-19 19:05:44\nCurrent date: 2020-06-19 21:07:24\nCurrent date: 2020-06-19 23:36:58\nCurrent date: 2020-06-20 02:15:03\nCurrent date: 2020-06-20 04:07:50\nCurrent date: 2020-06-20 05:56:34\nCurrent date: 2020-06-20 07:57:44\nCurrent date: 2020-06-20 11:20:27\nCurrent date: 2020-06-20 13:41:26\nCurrent date: 2020-06-20 15:28:07\nCurrent date: 2020-06-20 18:08:04\nCurrent date: 2020-06-20 19:45:49\nCurrent date: 2020-06-20 22:02:58\nCurrent date: 2020-06-21 00:45:32\nCurrent date: 2020-06-21 03:44:16\nCurrent date: 2020-06-21 06:11:37\nCurrent date: 2020-06-21 08:05:58\nCurrent date: 2020-06-21 11:13:37\nCurrent date: 2020-06-21 13:34:10\nCurrent date: 2020-06-21 15:38:52\nCurrent date: 2020-06-21 17:34:23\nCurrent date: 2020-06-21 19:35:09\nCurrent date: 2020-06-21 21:32:58\nCurrent date: 2020-06-21 23:47:14\nCurrent date: 2020-06-22 02:12:00\nCurrent date: 2020-06-22 04:06:00\nCurrent date: 2020-06-22 06:11:40\nCurrent date: 2020-06-22 08:11:15\nCurrent date: 2020-06-22 10:13:09\nCurrent date: 2020-06-22 12:15:51\nCurrent date: 2020-06-22 14:17:17\nCurrent date: 2020-06-22 15:51:19\nCurrent date: 2020-06-22 17:28:02\nCurrent date: 2020-06-22 18:58:53\nCurrent date: 2020-06-22 20:18:57\nCurrent date: 2020-06-22 21:52:10\nCurrent date: 2020-06-22 23:57:48\nCurrent date: 2020-06-23 02:49:37\nCurrent date: 2020-06-23 04:17:23\nCurrent date: 2020-06-23 06:33:52\nCurrent date: 2020-06-23 08:45:28\nCurrent date: 2020-06-23 11:26:16\nCurrent date: 2020-06-23 13:21:28\nCurrent date: 2020-06-23 14:53:21\nCurrent date: 2020-06-23 16:17:06\nCurrent date: 2020-06-23 17:50:20\nCurrent date: 2020-06-23 19:07:16\nCurrent date: 2020-06-23 20:36:29\nCurrent date: 2020-06-23 21:46:25\nCurrent date: 2020-06-24 00:34:23\nCurrent date: 2020-06-24 02:42:38\nCurrent date: 2020-06-24 05:00:09\nCurrent date: 2020-06-24 06:53:35\nCurrent date: 2020-06-24 09:07:15\nCurrent date: 2020-06-24 11:42:03\nCurrent date: 2020-06-24 13:17:13\nCurrent date: 2020-06-24 14:49:57\nCurrent date: 2020-06-24 16:33:06\nCurrent date: 2020-06-24 17:50:29\nCurrent date: 2020-06-24 19:20:24\nCurrent date: 2020-06-24 21:11:27\nCurrent date: 2020-06-24 23:08:50\nCurrent date: 2020-06-25 02:37:22\nCurrent date: 2020-06-25 04:59:45\nCurrent date: 2020-06-25 06:54:41\nCurrent date: 2020-06-25 09:30:07\nCurrent date: 2020-06-25 11:43:19\nCurrent date: 2020-06-25 13:03:37\nCurrent date: 2020-06-25 14:27:03\nCurrent date: 2020-06-25 15:54:35\nCurrent date: 2020-06-25 17:33:18\nCurrent date: 2020-06-25 19:17:35\nCurrent date: 2020-06-25 21:13:22\nCurrent date: 2020-06-25 23:12:19\nCurrent date: 2020-06-26 01:24:22\nCurrent date: 2020-06-26 03:17:39\nCurrent date: 2020-06-26 05:00:22\nCurrent date: 2020-06-26 06:57:14\nCurrent date: 2020-06-26 09:14:14\nCurrent date: 2020-06-26 12:13:21\nCurrent date: 2020-06-26 13:30:25\nCurrent date: 2020-06-26 15:00:13\nCurrent date: 2020-06-26 16:18:32\nCurrent date: 2020-06-26 17:48:07\nCurrent date: 2020-06-26 19:07:08\nCurrent date: 2020-06-26 20:50:04\nCurrent date: 2020-06-26 22:35:29\nCurrent date: 2020-06-27 01:38:31\nCurrent date: 2020-06-27 04:01:35\nCurrent date: 2020-06-27 05:57:24\nCurrent date: 2020-06-27 07:56:44\nCurrent date: 2020-06-27 11:21:14\nCurrent date: 2020-06-27 13:58:55\nCurrent date: 2020-06-27 16:09:25\nCurrent date: 2020-06-27 18:57:58\nCurrent date: 2020-06-27 21:05:20\nCurrent date: 2020-06-27 23:32:04\nCurrent date: 2020-06-28 02:28:31\nCurrent date: 2020-06-28 05:00:12\nCurrent date: 2020-06-28 06:58:44\nCurrent date: 2020-06-28 10:22:28\nCurrent date: 2020-06-28 12:47:19\nCurrent date: 2020-06-28 14:59:56\nCurrent date: 2020-06-28 17:04:38\nCurrent date: 2020-06-28 19:56:13\nCurrent date: 2020-06-28 23:20:24\nCurrent date: 2020-06-29 02:29:13\nCurrent date: 2020-06-29 04:29:21\nCurrent date: 2020-06-29 06:31:15\nCurrent date: 2020-06-29 08:00:55\nCurrent date: 2020-06-29 09:44:57\nCurrent date: 2020-06-29 12:09:06\nCurrent date: 2020-06-29 14:02:54\nCurrent date: 2020-06-29 15:18:45\nCurrent date: 2020-06-29 16:29:19\nCurrent date: 2020-06-29 17:37:34\nCurrent date: 2020-06-29 18:22:55\nCurrent date: 2020-06-29 19:17:10\nCurrent date: 2020-06-29 21:13:11\nCurrent date: 2020-06-29 23:14:26\nCurrent date: 2020-06-30 01:11:56\nCurrent date: 2020-06-30 03:12:56\nCurrent date: 2020-06-30 04:41:48\nCurrent date: 2020-06-30 06:11:35\nCurrent date: 2020-06-30 07:28:56\nCurrent date: 2020-06-30 10:03:03\nCurrent date: 2020-06-30 12:06:49\nCurrent date: 2020-06-30 13:50:50\nCurrent date: 2020-06-30 15:25:30\nCurrent date: 2020-06-30 17:10:21\nCurrent date: 2020-06-30 18:38:39\nCurrent date: 2020-06-30 19:39:24\nCurrent date: 2020-06-30 21:25:49\nCurrent date: 2020-06-30 23:43:47\nCurrent date: 2020-07-01 02:02:52\nCurrent date: 2020-07-01 04:20:28\nCurrent date: 2020-07-01 06:41:02\nCurrent date: 2020-07-01 08:15:12\nCurrent date: 2020-07-01 09:57:37\nCurrent date: 2020-07-01 12:05:29\nCurrent date: 2020-07-01 13:20:38\nCurrent date: 2020-07-01 14:23:21\nCurrent date: 2020-07-01 15:39:13\nCurrent date: 2020-07-01 16:35:40\nCurrent date: 2020-07-01 17:47:45\nCurrent date: 2020-07-01 18:53:29\nCurrent date: 2020-07-01 20:17:17\nCurrent date: 2020-07-01 21:43:46\nCurrent date: 2020-07-02 00:03:11\nCurrent date: 2020-07-02 02:14:23\nCurrent date: 2020-07-02 04:13:30\nCurrent date: 2020-07-02 06:04:52\nCurrent date: 2020-07-02 07:52:16\nCurrent date: 2020-07-02 10:00:07\nCurrent date: 2020-07-02 11:43:28\nCurrent date: 2020-07-02 13:17:22\nCurrent date: 2020-07-02 14:39:31\nCurrent date: 2020-07-02 15:38:51\nCurrent date: 2020-07-02 16:01:04\nCurrent date: 2020-07-02 17:00:37\nCurrent date: 2020-07-02 18:13:27\nCurrent date: 2020-07-02 19:20:52\nCurrent date: 2020-07-02 21:05:14\nCurrent date: 2020-07-02 22:14:23\nCurrent date: 2020-07-03 00:17:26\nCurrent date: 2020-07-03 02:54:02\nCurrent date: 2020-07-03 04:34:20\nCurrent date: 2020-07-03 06:11:39\nCurrent date: 2020-07-03 08:08:06\nCurrent date: 2020-07-03 10:20:16\nCurrent date: 2020-07-03 12:22:45\nCurrent date: 2020-07-03 14:14:57\nCurrent date: 2020-07-03 15:33:59\nCurrent date: 2020-07-03 17:05:52\nCurrent date: 2020-07-03 18:43:34\nCurrent date: 2020-07-03 20:28:40\nCurrent date: 2020-07-03 22:33:02\nCurrent date: 2020-07-04 00:49:23\nCurrent date: 2020-07-04 03:49:36\nCurrent date: 2020-07-04 05:53:02\nCurrent date: 2020-07-04 07:19:02\nCurrent date: 2020-07-04 10:26:24\nCurrent date: 2020-07-04 13:23:10\nCurrent date: 2020-07-04 15:22:25\nCurrent date: 2020-07-04 17:57:07\nCurrent date: 2020-07-04 20:27:03\nCurrent date: 2020-07-04 23:44:01\nCurrent date: 2020-07-05 02:44:43\nCurrent date: 2020-07-05 04:13:30\nCurrent date: 2020-07-05 06:06:52\nCurrent date: 2020-07-05 08:51:50\nCurrent date: 2020-07-05 13:17:17\nCurrent date: 2020-07-05 15:31:44\nCurrent date: 2020-07-05 17:49:22\nCurrent date: 2020-07-05 20:00:12\nCurrent date: 2020-07-05 22:27:50\nCurrent date: 2020-07-06 01:03:18\nCurrent date: 2020-07-06 03:38:37\nCurrent date: 2020-07-06 06:00:57\nCurrent date: 2020-07-06 07:20:31\nCurrent date: 2020-07-06 09:29:10\nCurrent date: 2020-07-06 10:48:32\nCurrent date: 2020-07-06 12:24:50\nCurrent date: 2020-07-06 13:38:27\nCurrent date: 2020-07-06 14:35:01\nCurrent date: 2020-07-06 16:01:24\nCurrent date: 2020-07-06 16:56:36\nCurrent date: 2020-07-06 17:47:00\nCurrent date: 2020-07-06 18:38:37\nCurrent date: 2020-07-06 19:49:50\nCurrent date: 2020-07-06 21:13:26\nCurrent date: 2020-07-06 22:37:31\nCurrent date: 2020-07-07 00:21:42\nCurrent date: 2020-07-07 02:48:10\nCurrent date: 2020-07-07 04:29:04\nCurrent date: 2020-07-07 05:56:37\nCurrent date: 2020-07-07 06:52:10\nCurrent date: 2020-07-07 08:00:17\nCurrent date: 2020-07-07 09:27:28\nCurrent date: 2020-07-07 10:45:24\nCurrent date: 2020-07-07 12:19:19\nCurrent date: 2020-07-07 13:23:46\nCurrent date: 2020-07-07 14:25:57\nCurrent date: 2020-07-07 15:19:11\nCurrent date: 2020-07-07 16:31:32\nCurrent date: 2020-07-07 17:23:29\nCurrent date: 2020-07-07 17:48:36\nCurrent date: 2020-07-07 18:43:30\nCurrent date: 2020-07-07 19:51:09\nCurrent date: 2020-07-07 20:59:26\nCurrent date: 2020-07-07 22:10:19\nCurrent date: 2020-07-07 23:36:12\nCurrent date: 2020-07-08 01:35:39\nCurrent date: 2020-07-08 04:13:33\nCurrent date: 2020-07-08 05:56:33\nCurrent date: 2020-07-08 07:17:40\nCurrent date: 2020-07-08 09:16:01\nCurrent date: 2020-07-08 11:02:50\nCurrent date: 2020-07-08 12:42:26\nCurrent date: 2020-07-08 14:13:10\nCurrent date: 2020-07-08 15:24:27\nCurrent date: 2020-07-08 16:50:58\nCurrent date: 2020-07-08 18:12:27\nCurrent date: 2020-07-08 19:47:16\nCurrent date: 2020-07-08 21:29:02\nCurrent date: 2020-07-08 23:08:25\nCurrent date: 2020-07-09 01:19:58\nCurrent date: 2020-07-09 03:19:16\nCurrent date: 2020-07-09 04:23:24\nCurrent date: 2020-07-09 05:56:30\nCurrent date: 2020-07-09 06:57:19\nCurrent date: 2020-07-09 08:19:24\nCurrent date: 2020-07-09 10:18:50\nCurrent date: 2020-07-09 11:51:36\nCurrent date: 2020-07-09 13:19:42\nCurrent date: 2020-07-09 15:10:12\nCurrent date: 2020-07-09 16:17:25\nCurrent date: 2020-07-09 17:11:51\nCurrent date: 2020-07-09 18:20:30\nCurrent date: 2020-07-09 19:24:00\nCurrent date: 2020-07-09 20:51:52\nCurrent date: 2020-07-09 22:19:26\nCurrent date: 2020-07-09 23:56:47\nCurrent date: 2020-07-10 01:29:41\nCurrent date: 2020-07-10 03:19:20\nCurrent date: 2020-07-10 05:00:14\nCurrent date: 2020-07-10 06:26:23\nCurrent date: 2020-07-10 07:28:34\nCurrent date: 2020-07-10 09:57:05\nCurrent date: 2020-07-10 12:00:08\nCurrent date: 2020-07-10 13:19:16\nCurrent date: 2020-07-10 14:51:52\nCurrent date: 2020-07-10 15:53:05\nCurrent date: 2020-07-10 17:05:55\nCurrent date: 2020-07-10 18:08:14\nCurrent date: 2020-07-10 19:19:10\nCurrent date: 2020-07-10 20:40:06\nCurrent date: 2020-07-10 22:19:08\nCurrent date: 2020-07-11 00:19:29\nCurrent date: 2020-07-11 02:07:42\nCurrent date: 2020-07-11 03:34:46\nCurrent date: 2020-07-11 05:03:28\nCurrent date: 2020-07-11 06:57:24\nCurrent date: 2020-07-11 09:15:25\nCurrent date: 2020-07-11 11:33:41\nCurrent date: 2020-07-11 13:19:12\nCurrent date: 2020-07-11 14:39:29\nCurrent date: 2020-07-11 16:01:14\nCurrent date: 2020-07-11 17:19:27\nCurrent date: 2020-07-11 18:55:58\nCurrent date: 2020-07-11 20:20:33\nCurrent date: 2020-07-11 21:47:31\nCurrent date: 2020-07-11 23:40:19\nCurrent date: 2020-07-12 01:20:32\nCurrent date: 2020-07-12 03:37:13\nCurrent date: 2020-07-12 05:38:43\nCurrent date: 2020-07-12 07:03:29\nCurrent date: 2020-07-12 08:48:42\nCurrent date: 2020-07-12 11:19:12\nCurrent date: 2020-07-12 13:19:14\nCurrent date: 2020-07-12 14:53:16\nCurrent date: 2020-07-12 16:26:33\nCurrent date: 2020-07-12 17:40:07\nCurrent date: 2020-07-12 19:19:08\nCurrent date: 2020-07-12 20:31:02\nCurrent date: 2020-07-12 22:10:51\nCurrent date: 2020-07-12 23:49:42\nCurrent date: 2020-07-13 01:38:40\nCurrent date: 2020-07-13 03:11:39\nCurrent date: 2020-07-13 04:21:33\nCurrent date: 2020-07-13 06:16:23\nCurrent date: 2020-07-13 07:40:06\nCurrent date: 2020-07-13 09:39:36\nCurrent date: 2020-07-13 11:32:07\nCurrent date: 2020-07-13 12:30:43\nCurrent date: 2020-07-13 13:53:52\nCurrent date: 2020-07-13 15:00:53\nCurrent date: 2020-07-13 15:57:55\nCurrent date: 2020-07-13 17:12:30\nCurrent date: 2020-07-13 18:19:24\nCurrent date: 2020-07-13 19:13:29\nCurrent date: 2020-07-13 20:06:19\nCurrent date: 2020-07-13 21:19:23\nCurrent date: 2020-07-13 22:53:21\nCurrent date: 2020-07-14 00:24:30\nCurrent date: 2020-07-14 02:27:18\nCurrent date: 2020-07-14 03:53:25\nCurrent date: 2020-07-14 05:19:09\nCurrent date: 2020-07-14 06:22:30\nCurrent date: 2020-07-14 08:18:34\nCurrent date: 2020-07-14 10:33:05\nCurrent date: 2020-07-14 12:19:06\nCurrent date: 2020-07-14 13:39:56\nCurrent date: 2020-07-14 14:40:09\nCurrent date: 2020-07-14 15:45:39\nCurrent date: 2020-07-14 17:07:04\nCurrent date: 2020-07-14 18:11:06\nCurrent date: 2020-07-14 19:34:10\nCurrent date: 2020-07-14 20:42:30\nCurrent date: 2020-07-14 21:57:57\nCurrent date: 2020-07-14 23:20:07\nCurrent date: 2020-07-15 01:19:26\nCurrent date: 2020-07-15 03:19:13\nCurrent date: 2020-07-15 04:56:48\nCurrent date: 2020-07-15 06:19:13\nCurrent date: 2020-07-15 07:47:42\nCurrent date: 2020-07-15 10:09:16\nCurrent date: 2020-07-15 11:19:17\nCurrent date: 2020-07-15 12:19:09\nCurrent date: 2020-07-15 13:53:41\nCurrent date: 2020-07-15 15:28:57\nCurrent date: 2020-07-15 16:28:07\nCurrent date: 2020-07-15 17:22:52\nCurrent date: 2020-07-15 18:22:49\nCurrent date: 2020-07-15 19:27:47\nCurrent date: 2020-07-15 21:02:30\nCurrent date: 2020-07-15 22:35:25\nCurrent date: 2020-07-15 23:44:33\nCurrent date: 2020-07-16 01:19:05\nCurrent date: 2020-07-16 03:11:34\nCurrent date: 2020-07-16 04:35:15\nCurrent date: 2020-07-16 06:19:20\nCurrent date: 2020-07-16 07:51:01\nCurrent date: 2020-07-16 09:29:31\nCurrent date: 2020-07-16 10:47:17\nCurrent date: 2020-07-16 12:20:42\nCurrent date: 2020-07-16 14:01:00\nCurrent date: 2020-07-16 15:22:22\nCurrent date: 2020-07-16 16:53:20\nCurrent date: 2020-07-16 18:00:41\nCurrent date: 2020-07-16 19:52:28\nCurrent date: 2020-07-16 21:15:43\nCurrent date: 2020-07-16 23:24:14\nCurrent date: 2020-07-17 02:19:22\nCurrent date: 2020-07-17 03:52:22\nCurrent date: 2020-07-17 05:56:29\nCurrent date: 2020-07-17 07:20:16\nCurrent date: 2020-07-17 09:35:16\nCurrent date: 2020-07-17 11:03:38\nCurrent date: 2020-07-17 12:31:00\nCurrent date: 2020-07-17 14:19:23\nCurrent date: 2020-07-17 15:43:31\nCurrent date: 2020-07-17 17:19:18\nCurrent date: 2020-07-17 18:32:08\nCurrent date: 2020-07-17 20:01:16\nCurrent date: 2020-07-17 21:56:31\nCurrent date: 2020-07-18 00:32:53\nCurrent date: 2020-07-18 03:01:22\nCurrent date: 2020-07-18 05:00:14\nCurrent date: 2020-07-18 07:11:31\nCurrent date: 2020-07-18 08:30:06\nCurrent date: 2020-07-18 10:28:36\nCurrent date: 2020-07-18 12:22:27\nCurrent date: 2020-07-18 14:55:04\nCurrent date: 2020-07-18 17:23:55\nCurrent date: 2020-07-18 19:19:27\nCurrent date: 2020-07-18 21:09:59\nCurrent date: 2020-07-18 23:21:14\nCurrent date: 2020-07-19 01:37:50\nCurrent date: 2020-07-19 04:10:44\nCurrent date: 2020-07-19 05:33:08\nCurrent date: 2020-07-19 06:57:36\nCurrent date: 2020-07-19 09:03:14\nCurrent date: 2020-07-19 11:13:26\nCurrent date: 2020-07-19 13:21:24\nCurrent date: 2020-07-19 15:03:51\nCurrent date: 2020-07-19 16:46:47\nCurrent date: 2020-07-19 18:23:54\nCurrent date: 2020-07-19 20:35:14\nCurrent date: 2020-07-19 22:26:20\nCurrent date: 2020-07-20 00:34:12\nCurrent date: 2020-07-20 03:19:17\nCurrent date: 2020-07-20 05:00:08\nCurrent date: 2020-07-20 06:21:34\nCurrent date: 2020-07-20 07:28:35\nCurrent date: 2020-07-20 09:21:24\nCurrent date: 2020-07-20 10:52:53\nCurrent date: 2020-07-20 12:13:30\nCurrent date: 2020-07-20 13:24:18\n"
    }
   ],
   "source": [
    "# Downloading the data\n",
    "DATA = forceGetData(datesList[1], datesList[0], 'worldnews')"
   ]
  },
  {
   "cell_type": "code",
   "execution_count": 13,
   "metadata": {
    "tags": []
   },
   "outputs": [
    {
     "output_type": "stream",
     "name": "stdout",
     "text": "295688\n"
    }
   ],
   "source": [
    "print(len(DATA))"
   ]
  },
  {
   "cell_type": "code",
   "execution_count": 14,
   "metadata": {},
   "outputs": [],
   "source": [
    "# Saving to .csv\n",
    "writeDataToCSV(DATA, 'last240Days.csv')"
   ]
  },
  {
   "cell_type": "code",
   "execution_count": null,
   "metadata": {},
   "outputs": [],
   "source": []
  }
 ]
}